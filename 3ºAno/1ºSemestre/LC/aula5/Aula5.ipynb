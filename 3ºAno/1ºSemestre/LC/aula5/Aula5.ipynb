{
 "cells": [
  {
   "cell_type": "markdown",
   "metadata": {},
   "source": [
    "# Problemas de incidência\n",
    "\n",
    "Uma versão particular dos problemas de alocação são os *problemas de incidência*. Genericamente estes problemas estão ligados aos conjuntos que é possível  formar com os elementos de um dado universo finito.\n",
    "\n",
    "É frequente usar nestes problemas uma matriz binária $A$ com a seguinte semântica:\n",
    "\n",
    "> $A_{i,j} = 1 \\quad$ se e só se $\\quad$ o elemento $i$ do universo está contido no conjunto $j$.\n",
    "\n",
    "Estas matrizes chamam-se *matrizes de incidência* e daí resulta o nome genérico para estes problemas."
   ]
  },
  {
   "cell_type": "markdown",
   "metadata": {},
   "source": [
    "## Programação Inteira em Z3\n",
    "\n",
    "Para utilizar o Z3 como solver de programação inteira (restrições em aritmética linear inteira mais critério de optimização), deve utilizar o construtor `Optimize` para criar uma instância vazia de um solver (em vez do construtor `Solver`). Para definir o critério de optimização deve utilizar os métodos `minimize` ou `maximize`, passando como parâmetro a função objectivo. Por exemplo, para maximizar a função $x + y$ sujeita às restrições $x < 2$ e $y - x < 1$ podemos usar o Z3 da seguinte forma."
   ]
  },
  {
   "cell_type": "code",
   "execution_count": 8,
   "metadata": {},
   "outputs": [
    {
     "name": "stdout",
     "output_type": "stream",
     "text": [
      "sat\n",
      "[y = 1, x = 1]\n"
     ]
    }
   ],
   "source": [
    "from z3 import *\n",
    "\n",
    "solver = Optimize()\n",
    "x = Int(\"x\")\n",
    "y = Int(\"y\")\n",
    "solver.add(x < 2)\n",
    "solver.add(y - x < 1)\n",
    "solver.maximize(x+y)\n",
    "print(solver.check())\n",
    "print(solver.model())"
   ]
  },
  {
   "cell_type": "markdown",
   "metadata": {},
   "source": [
    "Se quisermos minimizar a mesma função objectivo com as mesmas restrições, temos um problema de optimização *unbounded*. Para termos a certeza se é este o caso, devemos usar os métodos `lower` ou `upper` para confirmar os valores mínimos ou máximos encontrados para a função objectivo. Programaticamente podemos testar se estes valores são diferentes de infinito usando, por exemplo, a função `is_int_value`."
   ]
  },
  {
   "cell_type": "code",
   "execution_count": 9,
   "metadata": {},
   "outputs": [
    {
     "name": "stdout",
     "output_type": "stream",
     "text": [
      "sat\n",
      "[y = 0, x = 1]\n",
      "-1*oo\n",
      "False\n"
     ]
    }
   ],
   "source": [
    "solver = Optimize()\n",
    "x = Int(\"x\")\n",
    "y = Int(\"y\")\n",
    "solver.add(x < 2)\n",
    "solver.add(y - x < 1)\n",
    "obj = solver.minimize(x+y)\n",
    "print(solver.check())\n",
    "print(solver.model())\n",
    "print(solver.lower(obj))\n",
    "print(is_int_value(solver.lower(obj)))"
   ]
  },
  {
   "cell_type": "markdown",
   "metadata": {},
   "source": [
    "## Set cover\n",
    "\n",
    "Um dos problemas clássicos das ciências da computação nesta categoria é o problema do *set cover* descrito em https://en.wikipedia.org/wiki/Set_cover_problem.\n",
    "\n",
    "Neste problema, são dados\n",
    "- $U$, o universo de valores\n",
    "- $S$, o conjunto de conjuntos,  cuja união é igual a $U$\n",
    "\n",
    "O objectivo é determinar o menor número de conjuntos de $S$ cuja união é igual a $U$, i.e., a *cobertura mínima* de $U$.\n",
    "\n",
    "### Análise do problema\n",
    "\n",
    "Podemos representar este problema por uma matriz de incidência $A \\in \\{0,1\\}^{|U| \\times |S|}$. Por exemplo, se $U=\\{0,1,2,3,4\\}$ e $S = \\{\\{0,1,2\\},\\{1,3\\},\\{2,3\\},\\{3,4\\}\\}$ temos a seguinte matriz de incidência\n",
    "\n",
    "$$\n",
    "\\begin{array}{c|c|c|c|c}\n",
    "& S_0 & S_1 & S_2 & S_3\\\\\n",
    "\\hline\n",
    "0 & 1 & 0 & 0 & 0\\\\\n",
    "\\hline\n",
    "1 & 1 & 1 & 0 & 0\\\\\n",
    "\\hline\n",
    "2 & 1 & 0 & 1 & 0\\\\\n",
    "\\hline\n",
    "3 & 0 & 1 & 1 & 1\\\\\n",
    "\\hline\n",
    "4 & 0 & 0 & 0 & 1\n",
    "\\end{array}\n",
    "$$\n",
    "\n",
    "Neste exemplo, a cobertura mínima é $S_0 \\cup S_3 = U$.\n",
    "\n",
    "Este problema pode ser resolvido com programação inteira usando uma variável inteira binária $x_j$ para cada conjunto $S_j$, que irá determinar se esse conjunto pertence à cobertura mínima. O objectivo é minimizar $\\sum_j x_j$ obedecendo à seguinte restrição:\n",
    "- Cada elemento de $U$ tem que pertencer a pelo menos um conjunto da cobertura mínima.\n",
    "\n",
    "\n",
    "\n",
    "#### SetCover\n",
    "$A_{ij} = 1 \\iff i \\in j$\n",
    "\n",
    "$x_j \\iff$ j pertence à cobertura minima\n",
    "\n",
    "##### Restrições\n",
    ". cada elemento de U tem que pertencer a pelo menos um conjunto de cobertura mínima\n",
    "$\\forall_{i\\in U} \\cdot \\quad \\sum_{j} A_{ij} \\cdot x_{ij} \\geq 1$\n",
    "\n",
    "##### Objetivo\n",
    "minimizar $\\quad \\sum_j x_j$"
   ]
  },
  {
   "cell_type": "markdown",
   "metadata": {},
   "source": [
    "### Exercício 1\n",
    "Formalize a restrição acima indicada."
   ]
  },
  {
   "cell_type": "markdown",
   "metadata": {},
   "source": []
  },
  {
   "cell_type": "markdown",
   "metadata": {},
   "source": [
    "### Exercício 2\n",
    "\n",
    "Usando o Z3, implemente a função `set_cover` que dada a matriz de incidência (representada como uma lista de colunas) determine quais os conjuntos que pertencem à cobertura mínima. "
   ]
  },
  {
   "cell_type": "code",
   "execution_count": 12,
   "metadata": {},
   "outputs": [],
   "source": [
    "# representada como uma lista de colunas#\n",
    "def set_cover(A):\n",
    "    tam = len(A)\n",
    "    s = Optimize()\n",
    "    x = {}\n",
    "    for j in range(tam):\n",
    "        x[j] = Int(str(j))\n",
    "        s.add(0<=x[j], x[j] <= 1)\n",
    "    \n",
    "    # restrição\n",
    "    for i in range(len(A[0])):\n",
    "        s.add(Sum([A[j][i] * x[j] for j in range(tam)]) >= 1)\n",
    "    \n",
    "    # objetivo\n",
    "    obj = s.minimize(Sum([x[j] for j in range(tam)])) \n",
    "    \n",
    "    r = s.check()\n",
    "    \n",
    "    if r == sat:\n",
    "        m = s.model()\n",
    "        assert is_int_value(s.lower(obj))\n",
    "        return [j for j in range(tam) if m[x[j]] == 1]\n",
    "            \n",
    "assert set_cover([[1,1,1,0,0],[0,1,0,1,0],[0,0,1,1,0],[0,0,0,1,1]]) == [0,3]"
   ]
  },
  {
   "cell_type": "markdown",
   "metadata": {},
   "source": [
    "## Bin packing\n",
    "\n",
    "Outro problema clássico na categoria dos problemas de incidência, que generaliza o problema anterior, é o problema de empacotamento *bin packing* descrito em https://en.wikipedia.org/wiki/Bin_packing_problem. \n",
    "\n",
    "Neste problema, são dados\n",
    "- $N$, o número de items a empacotar\n",
    "- $C$, a capacidade das contentores onde pretendemos empacotar os items\n",
    "- $W_i$ o peso de cada item $i$, com $0 < W_i \\le C$\n",
    "\n",
    "Pretende-se determinar o número mínimo de contentores necessários para empacotar todos os items (note que, no pior caso, tal será possível com $N$ contentores).\n",
    "\n",
    "Por exemplo, se tivermos\n",
    "- $N = 7$\n",
    "- $C = 10$\n",
    "- $W_0 = 2, W_1 = 5, W_2 = 4, W_3 = 7, W_4 = 1, W_5 = 3, W_6 = 8$\n",
    "\n",
    "o número mínimo de contentores necessários é 3.\n",
    "\n",
    "### Análise do problema\n",
    "\n",
    "Ao contrário do problema anterior, em que a matriz de incidência é dada como input, neste problema pretende-se precisamente descobrir esta matriz, minimizando simultaneamente o número de contentores. Como tal, para resolver este problema com programação inteira iremos usar as seguintes variáveis:\n",
    "\n",
    "- Uma matriz $A$ de variáveis binárias de dimensão $|N| \\times |N|$, onde a variável $A_{i,j}$ determina se o item $i$ é colocado no contentor $j$\n",
    "- Uma variável binária $y_j$ por cada contentor $j$ que determina se esse contentor é utilizado\n",
    "\n",
    "O objectivo é minimizar $\\sum_j y_j$ obedecendo às seguintes restrições:\n",
    "- Cada item tem que ser empacotado num contentor\n",
    "- A capacidade de cada contentor não pode ser excedida"
   ]
  },
  {
   "cell_type": "markdown",
   "metadata": {},
   "source": [
    "### Exercício 3\n",
    "Formalize as duas restrições acima indicadas.\n",
    "\n",
    "\n",
    "#### Bin Packing\n",
    "$A_{ij} = 1$ sse $i \\in j$\n",
    "\n",
    "$y_j$ sse o contentor j está a ser utilizado\n",
    "\n",
    "##### Objetivo\n",
    "minimize $\\sum_j y_j$\n",
    "\n",
    "##### Restrições\n",
    " . cada item tem que estar num contentor\n",
    "$$\\forall_i \\cdot \\sum_j A_{ij} = 1$$\n",
    "\n",
    " . a capacidade de cada contentor não pode ser excedido\n",
    "$$\\forall_j \\sum_i A_{ij} \\cdot W_i \\leq C \\cdot y_j$$"
   ]
  },
  {
   "cell_type": "markdown",
   "metadata": {},
   "source": [
    " "
   ]
  },
  {
   "cell_type": "markdown",
   "metadata": {},
   "source": [
    "### Exercício 4\n",
    "\n",
    "Implemente a função `binpacking` que dada a capacidade dos contentores e uma lista com os pesos dos items a empacotar, determine o número mínimo de contentores necessários para o fazer."
   ]
  },
  {
   "cell_type": "code",
   "execution_count": 20,
   "metadata": {},
   "outputs": [],
   "source": [
    "def binpacking(C,W):\n",
    "    s = Optimize()\n",
    "    \n",
    "    N = len(W)\n",
    "    A = {}\n",
    "    y = {}\n",
    "    \n",
    "    for i in range(N):\n",
    "        y[i] = Int(str(i))\n",
    "        s.add(0<=y[i], y[i]<=1)\n",
    "        A[i] = {}\n",
    "        for j in range(N):\n",
    "            A[i][j] = Int(str(i) + str(j))\n",
    "            s.add(0<=A[i][j], A[i][j]<=1)\n",
    "            \n",
    "    # primeira restrição\n",
    "    for i in range(N):\n",
    "        s.add(Sum([A[i][j] for j in range(j)]) == 1)\n",
    "    \n",
    "    # segunda restrição\n",
    "    for j in range(N):\n",
    "        s.add(Sum([A[i][j]*W[i] for i in range(N)]) <= C*y[j])\n",
    "    \n",
    "    # objetivo\n",
    "    obj = s.minimize(Sum([y[j] for j in range(N)]))\n",
    "    \n",
    "    r = s.check()\n",
    "    \n",
    "    if r == sat:\n",
    "        m = s.model()\n",
    "        return m.eval(Sum([y[j] for j in range(N)]))\n",
    "assert binpacking(10,[2,5,4,7,1,3,8]) == 3"
   ]
  },
  {
   "cell_type": "markdown",
   "metadata": {},
   "source": [
    "### Exercício 5\n",
    "Modifique a sua implementação da função anterior por forma a devolver uma lista com os identificadores dos contentores onde cada item deve ser empacotado."
   ]
  },
  {
   "cell_type": "code",
   "execution_count": 36,
   "metadata": {},
   "outputs": [
    {
     "data": {
      "text/plain": [
       "[2, 4, 4, 3, 4, 3, 2]"
      ]
     },
     "execution_count": 36,
     "metadata": {},
     "output_type": "execute_result"
    }
   ],
   "source": [
    "def binpacking(C,W):\n",
    "    s = Optimize()\n",
    "    # completar\n",
    "    N = len(W)\n",
    "    A = {}\n",
    "    y = {}\n",
    "    \n",
    "    for i in range(N):\n",
    "        y[i] = Int(str(i))\n",
    "        s.add(0<=y[i], y[i]<=1)\n",
    "        A[i] = {}\n",
    "        for j in range(N):\n",
    "            A[i][j] = Int(str(i) + str(j))\n",
    "            s.add(0<=A[i][j], A[i][j]<=1)\n",
    "            \n",
    "    # primeira restrição\n",
    "    for i in range(N):\n",
    "        s.add(Sum([A[i][j] for j in range(j)]) == 1)\n",
    "    \n",
    "    # segunda restrição\n",
    "    for j in range(N):\n",
    "        s.add(Sum([A[i][j]*W[i] for i in range(N)]) <= C*y[j])\n",
    "    \n",
    "    # objetivo\n",
    "    obj = s.minimize(Sum([y[j] for j in range(N)]))\n",
    "    \n",
    "    r = s.check()\n",
    "    \n",
    "    if r == sat:\n",
    "        m = s.model()\n",
    "        \n",
    "        l = []\n",
    "        for i in range(N):\n",
    "            for j in range(N):\n",
    "                if m[A[i][j]] == 1:\n",
    "                    l.append(y[j])\n",
    "        return l\n",
    "\n",
    "binpacking(10,[2,5,4,7,1,3,8])"
   ]
  },
  {
   "cell_type": "markdown",
   "metadata": {},
   "source": [
    "## Knapsack\n",
    "\n",
    "Outro problema clássico de incidência é o *problema da mochila* descrito em https://en.wikipedia.org/wiki/Knapsack_problem.\n",
    "\n",
    "Neste problema, são dados\n",
    "- $N$, o número de items disponíveis\n",
    "- $C$, a capacidade da mochila\n",
    "- $W_i$, o peso de cada item $i$, com $0 < W_i \\le C$\n",
    "- $V_i$ o valor de cada item $i$, com $0 \\le V_i$\n",
    "\n",
    "Pretende-se determinar o valor máximo que pode ser transportado na mochila.\n",
    "\n",
    "Por exemplo, se tivermos uma mochila com capacidade $C = 15$ e 5 items com os seguintes pesos e valores\n",
    "$$\n",
    "\\begin{array}{c|c|c}\n",
    "& W & V\\\\\n",
    "\\hline\n",
    "0 & 12 & 4\\\\\n",
    "1 & 2 & 2\\\\\n",
    "2 & 1 & 2\\\\\n",
    "3 & 1 & 1\\\\\n",
    "4 & 4 & 10\n",
    "\\end{array}\n",
    "$$\n",
    "a melhor solução é empacotar todos os items menos o primeiro, com um valor total de 15."
   ]
  },
  {
   "cell_type": "markdown",
   "metadata": {},
   "source": [
    "### Exercício 6\n",
    "Formalize este problema usando programação inteira."
   ]
  },
  {
   "cell_type": "markdown",
   "metadata": {},
   "source": [
    "#### Knapsack\n",
    "$x_i = 1 sse item i vai para a mochila$\n",
    "\n",
    "##### Objetivo\n",
    "maximizar $\\sum_i v_i \\cdot x_i$\n",
    "\n",
    "##### Restrições\n",
    ". a capacidade da mochila não pode ser excedida\n",
    "\n",
    "$$\\sum_i W_i \\cdot x_i \\leq C$$"
   ]
  },
  {
   "cell_type": "markdown",
   "metadata": {},
   "source": [
    "### Exercício 7\n",
    "Implemente a função `knapsack` que dada a capacidade da mochila e uma lista com um par *(peso, valor)* por cada item, determine quais os items a empacotar na mochila e o respectivo valor."
   ]
  },
  {
   "cell_type": "code",
   "execution_count": 38,
   "metadata": {},
   "outputs": [
    {
     "ename": "TypeError",
     "evalue": "unsupported operand type(s) for +: 'int' and 'generator'",
     "output_type": "error",
     "traceback": [
      "\u001b[0;31m---------------------------------------------------------------------------\u001b[0m",
      "\u001b[0;31mTypeError\u001b[0m                                 Traceback (most recent call last)",
      "\u001b[0;32m<ipython-input-38-dbdecc8362ca>\u001b[0m in \u001b[0;36m<module>\u001b[0;34m\u001b[0m\n\u001b[1;32m     21\u001b[0m         \u001b[0;32mreturn\u001b[0m \u001b[0;34m[\u001b[0m\u001b[0mi\u001b[0m \u001b[0;32mfor\u001b[0m \u001b[0mi\u001b[0m \u001b[0;32min\u001b[0m \u001b[0mrange\u001b[0m\u001b[0;34m(\u001b[0m\u001b[0mN\u001b[0m\u001b[0;34m)\u001b[0m \u001b[0;32mif\u001b[0m \u001b[0mm\u001b[0m\u001b[0;34m[\u001b[0m\u001b[0mx\u001b[0m\u001b[0;34m[\u001b[0m\u001b[0mi\u001b[0m\u001b[0;34m]\u001b[0m\u001b[0;34m]\u001b[0m \u001b[0;34m==\u001b[0m \u001b[0;36m1\u001b[0m\u001b[0;34m]\u001b[0m\u001b[0;34m\u001b[0m\u001b[0;34m\u001b[0m\u001b[0m\n\u001b[1;32m     22\u001b[0m \u001b[0;34m\u001b[0m\u001b[0m\n\u001b[0;32m---> 23\u001b[0;31m \u001b[0;32massert\u001b[0m \u001b[0mknapsack\u001b[0m\u001b[0;34m(\u001b[0m\u001b[0;36m15\u001b[0m\u001b[0;34m,\u001b[0m\u001b[0;34m[\u001b[0m\u001b[0;34m(\u001b[0m\u001b[0;36m12\u001b[0m\u001b[0;34m,\u001b[0m\u001b[0;36m4\u001b[0m\u001b[0;34m)\u001b[0m\u001b[0;34m,\u001b[0m\u001b[0;34m(\u001b[0m\u001b[0;36m2\u001b[0m\u001b[0;34m,\u001b[0m\u001b[0;36m2\u001b[0m\u001b[0;34m)\u001b[0m\u001b[0;34m,\u001b[0m\u001b[0;34m(\u001b[0m\u001b[0;36m1\u001b[0m\u001b[0;34m,\u001b[0m\u001b[0;36m2\u001b[0m\u001b[0;34m)\u001b[0m\u001b[0;34m,\u001b[0m\u001b[0;34m(\u001b[0m\u001b[0;36m1\u001b[0m\u001b[0;34m,\u001b[0m\u001b[0;36m1\u001b[0m\u001b[0;34m)\u001b[0m\u001b[0;34m,\u001b[0m\u001b[0;34m(\u001b[0m\u001b[0;36m4\u001b[0m\u001b[0;34m,\u001b[0m\u001b[0;36m10\u001b[0m\u001b[0;34m)\u001b[0m\u001b[0;34m]\u001b[0m\u001b[0;34m)\u001b[0m \u001b[0;34m==\u001b[0m \u001b[0;34m[\u001b[0m\u001b[0;36m1\u001b[0m\u001b[0;34m,\u001b[0m\u001b[0;36m2\u001b[0m\u001b[0;34m,\u001b[0m\u001b[0;36m3\u001b[0m\u001b[0;34m,\u001b[0m\u001b[0;36m4\u001b[0m\u001b[0;34m]\u001b[0m\u001b[0;34m\u001b[0m\u001b[0;34m\u001b[0m\u001b[0m\n\u001b[0m",
      "\u001b[0;32m<ipython-input-38-dbdecc8362ca>\u001b[0m in \u001b[0;36mknapsack\u001b[0;34m(C, W)\u001b[0m\n\u001b[1;32m      9\u001b[0m \u001b[0;34m\u001b[0m\u001b[0m\n\u001b[1;32m     10\u001b[0m     \u001b[0;31m# restrição\u001b[0m\u001b[0;34m\u001b[0m\u001b[0;34m\u001b[0m\u001b[0;34m\u001b[0m\u001b[0m\n\u001b[0;32m---> 11\u001b[0;31m     \u001b[0ms\u001b[0m\u001b[0;34m.\u001b[0m\u001b[0madd\u001b[0m\u001b[0;34m(\u001b[0m\u001b[0mSum\u001b[0m\u001b[0;34m(\u001b[0m\u001b[0mW\u001b[0m\u001b[0;34m[\u001b[0m\u001b[0mi\u001b[0m\u001b[0;34m]\u001b[0m\u001b[0;34m[\u001b[0m\u001b[0;36m0\u001b[0m\u001b[0;34m]\u001b[0m \u001b[0;34m*\u001b[0m \u001b[0mx\u001b[0m\u001b[0;34m[\u001b[0m\u001b[0mi\u001b[0m\u001b[0;34m]\u001b[0m \u001b[0;32mfor\u001b[0m \u001b[0mi\u001b[0m \u001b[0;32min\u001b[0m \u001b[0mrange\u001b[0m\u001b[0;34m(\u001b[0m\u001b[0mN\u001b[0m\u001b[0;34m)\u001b[0m\u001b[0;34m)\u001b[0m \u001b[0;34m<=\u001b[0m \u001b[0mC\u001b[0m\u001b[0;34m)\u001b[0m\u001b[0;34m\u001b[0m\u001b[0;34m\u001b[0m\u001b[0m\n\u001b[0m\u001b[1;32m     12\u001b[0m \u001b[0;34m\u001b[0m\u001b[0m\n\u001b[1;32m     13\u001b[0m     \u001b[0;31m#objetivo\u001b[0m\u001b[0;34m\u001b[0m\u001b[0;34m\u001b[0m\u001b[0;34m\u001b[0m\u001b[0m\n",
      "\u001b[0;32m~/opt/anaconda3/lib/python3.8/site-packages/z3/z3.py\u001b[0m in \u001b[0;36mSum\u001b[0;34m(*args)\u001b[0m\n\u001b[1;32m   8332\u001b[0m     \u001b[0mctx\u001b[0m   \u001b[0;34m=\u001b[0m \u001b[0m_ctx_from_ast_arg_list\u001b[0m\u001b[0;34m(\u001b[0m\u001b[0margs\u001b[0m\u001b[0;34m)\u001b[0m\u001b[0;34m\u001b[0m\u001b[0;34m\u001b[0m\u001b[0m\n\u001b[1;32m   8333\u001b[0m     \u001b[0;32mif\u001b[0m \u001b[0mctx\u001b[0m \u001b[0;32mis\u001b[0m \u001b[0;32mNone\u001b[0m\u001b[0;34m:\u001b[0m\u001b[0;34m\u001b[0m\u001b[0;34m\u001b[0m\u001b[0m\n\u001b[0;32m-> 8334\u001b[0;31m         \u001b[0;32mreturn\u001b[0m \u001b[0m_reduce\u001b[0m\u001b[0;34m(\u001b[0m\u001b[0;32mlambda\u001b[0m \u001b[0ma\u001b[0m\u001b[0;34m,\u001b[0m \u001b[0mb\u001b[0m\u001b[0;34m:\u001b[0m \u001b[0ma\u001b[0m \u001b[0;34m+\u001b[0m \u001b[0mb\u001b[0m\u001b[0;34m,\u001b[0m \u001b[0margs\u001b[0m\u001b[0;34m,\u001b[0m \u001b[0;36m0\u001b[0m\u001b[0;34m)\u001b[0m\u001b[0;34m\u001b[0m\u001b[0;34m\u001b[0m\u001b[0m\n\u001b[0m\u001b[1;32m   8335\u001b[0m     \u001b[0margs\u001b[0m  \u001b[0;34m=\u001b[0m \u001b[0m_coerce_expr_list\u001b[0m\u001b[0;34m(\u001b[0m\u001b[0margs\u001b[0m\u001b[0;34m,\u001b[0m \u001b[0mctx\u001b[0m\u001b[0;34m)\u001b[0m\u001b[0;34m\u001b[0m\u001b[0;34m\u001b[0m\u001b[0m\n\u001b[1;32m   8336\u001b[0m     \u001b[0;32mif\u001b[0m \u001b[0mis_bv\u001b[0m\u001b[0;34m(\u001b[0m\u001b[0margs\u001b[0m\u001b[0;34m[\u001b[0m\u001b[0;36m0\u001b[0m\u001b[0;34m]\u001b[0m\u001b[0;34m)\u001b[0m\u001b[0;34m:\u001b[0m\u001b[0;34m\u001b[0m\u001b[0;34m\u001b[0m\u001b[0m\n",
      "\u001b[0;32m~/opt/anaconda3/lib/python3.8/site-packages/z3/z3.py\u001b[0m in \u001b[0;36m_reduce\u001b[0;34m(f, l, a)\u001b[0m\n\u001b[1;32m   1119\u001b[0m     \u001b[0mr\u001b[0m \u001b[0;34m=\u001b[0m \u001b[0ma\u001b[0m\u001b[0;34m\u001b[0m\u001b[0;34m\u001b[0m\u001b[0m\n\u001b[1;32m   1120\u001b[0m     \u001b[0;32mfor\u001b[0m \u001b[0me\u001b[0m \u001b[0;32min\u001b[0m \u001b[0ml\u001b[0m\u001b[0;34m:\u001b[0m\u001b[0;34m\u001b[0m\u001b[0;34m\u001b[0m\u001b[0m\n\u001b[0;32m-> 1121\u001b[0;31m         \u001b[0mr\u001b[0m \u001b[0;34m=\u001b[0m \u001b[0mf\u001b[0m\u001b[0;34m(\u001b[0m\u001b[0mr\u001b[0m\u001b[0;34m,\u001b[0m \u001b[0me\u001b[0m\u001b[0;34m)\u001b[0m\u001b[0;34m\u001b[0m\u001b[0;34m\u001b[0m\u001b[0m\n\u001b[0m\u001b[1;32m   1122\u001b[0m     \u001b[0;32mreturn\u001b[0m \u001b[0mr\u001b[0m\u001b[0;34m\u001b[0m\u001b[0;34m\u001b[0m\u001b[0m\n\u001b[1;32m   1123\u001b[0m \u001b[0;34m\u001b[0m\u001b[0m\n",
      "\u001b[0;32m~/opt/anaconda3/lib/python3.8/site-packages/z3/z3.py\u001b[0m in \u001b[0;36m<lambda>\u001b[0;34m(a, b)\u001b[0m\n\u001b[1;32m   8332\u001b[0m     \u001b[0mctx\u001b[0m   \u001b[0;34m=\u001b[0m \u001b[0m_ctx_from_ast_arg_list\u001b[0m\u001b[0;34m(\u001b[0m\u001b[0margs\u001b[0m\u001b[0;34m)\u001b[0m\u001b[0;34m\u001b[0m\u001b[0;34m\u001b[0m\u001b[0m\n\u001b[1;32m   8333\u001b[0m     \u001b[0;32mif\u001b[0m \u001b[0mctx\u001b[0m \u001b[0;32mis\u001b[0m \u001b[0;32mNone\u001b[0m\u001b[0;34m:\u001b[0m\u001b[0;34m\u001b[0m\u001b[0;34m\u001b[0m\u001b[0m\n\u001b[0;32m-> 8334\u001b[0;31m         \u001b[0;32mreturn\u001b[0m \u001b[0m_reduce\u001b[0m\u001b[0;34m(\u001b[0m\u001b[0;32mlambda\u001b[0m \u001b[0ma\u001b[0m\u001b[0;34m,\u001b[0m \u001b[0mb\u001b[0m\u001b[0;34m:\u001b[0m \u001b[0ma\u001b[0m \u001b[0;34m+\u001b[0m \u001b[0mb\u001b[0m\u001b[0;34m,\u001b[0m \u001b[0margs\u001b[0m\u001b[0;34m,\u001b[0m \u001b[0;36m0\u001b[0m\u001b[0;34m)\u001b[0m\u001b[0;34m\u001b[0m\u001b[0;34m\u001b[0m\u001b[0m\n\u001b[0m\u001b[1;32m   8335\u001b[0m     \u001b[0margs\u001b[0m  \u001b[0;34m=\u001b[0m \u001b[0m_coerce_expr_list\u001b[0m\u001b[0;34m(\u001b[0m\u001b[0margs\u001b[0m\u001b[0;34m,\u001b[0m \u001b[0mctx\u001b[0m\u001b[0;34m)\u001b[0m\u001b[0;34m\u001b[0m\u001b[0;34m\u001b[0m\u001b[0m\n\u001b[1;32m   8336\u001b[0m     \u001b[0;32mif\u001b[0m \u001b[0mis_bv\u001b[0m\u001b[0;34m(\u001b[0m\u001b[0margs\u001b[0m\u001b[0;34m[\u001b[0m\u001b[0;36m0\u001b[0m\u001b[0;34m]\u001b[0m\u001b[0;34m)\u001b[0m\u001b[0;34m:\u001b[0m\u001b[0;34m\u001b[0m\u001b[0;34m\u001b[0m\u001b[0m\n",
      "\u001b[0;31mTypeError\u001b[0m: unsupported operand type(s) for +: 'int' and 'generator'"
     ]
    }
   ],
   "source": [
    "def knapsack(C,W):\n",
    "    s = Optimize()\n",
    "    \n",
    "    N = len(W)\n",
    "    x = {}\n",
    "    for i in range(N):\n",
    "        x[i] = Int(str(i))\n",
    "        s.add(0<=x[i], x[i]<=1)\n",
    "    \n",
    "    # restrição\n",
    "    s.add(Sum(W[i][0] * x[i] for i in range(N)) <= C)\n",
    "    \n",
    "    #objetivo\n",
    "    obj = s.maximize(Sum(W[i][1]*x[i] for i in range(N)))\n",
    "    \n",
    "    r = s.check()\n",
    "    \n",
    "    if r == sat:\n",
    "        m = s.model()\n",
    "        print(s.upper(obj))\n",
    "        return [i for i in range(N) if m[x[i]] == 1]\n",
    "    \n",
    "assert knapsack(15,[(12,4),(2,2),(1,2),(1,1),(4,10)]) == [1,2,3,4]"
   ]
  },
  {
   "cell_type": "code",
   "execution_count": null,
   "metadata": {},
   "outputs": [],
   "source": []
  }
 ],
 "metadata": {
  "kernelspec": {
   "display_name": "Python 3",
   "language": "python",
   "name": "python3"
  },
  "language_info": {
   "codemirror_mode": {
    "name": "ipython",
    "version": 3
   },
   "file_extension": ".py",
   "mimetype": "text/x-python",
   "name": "python",
   "nbconvert_exporter": "python",
   "pygments_lexer": "ipython3",
   "version": "3.8.5"
  }
 },
 "nbformat": 4,
 "nbformat_minor": 2
}
