{
 "cells": [
  {
   "cell_type": "markdown",
   "metadata": {},
   "source": [
    "# Verificação formal de programas:  *havoc* e *unfold* de ciclos\n",
    "\n",
    "\n",
    "Na aula anterior vimos que uma abordagem à verificação de programa com ciclos, assenta no conceito de *invariante* de ciclo e nas suas propriedades de \"inicialização\", \"preservação\" e \"utilidade\".\n",
    "\n",
    "\n",
    "Nesta aula vamos ver duas metodologias alternativas em que o programa original (com ciclos) é representado na linguagem intermédia de fluxos (sem ciclos), substituindo cada ciclo ${\\sf while} \\; b \\;{\\sf do } \\;C$ por um fluxo $H$ tal que:\n",
    "se $\\{\\phi\\} H \\{\\psi\\}$ se verificar, então $\\{\\phi\\} {\\sf while} \\; b \\;{\\sf do } \\;C \\{\\psi\\}$ verifica-se também.\n",
    "Uma das metedologias usa um novo comando `havoc x` e a outra vai desenrolando os ciclos um determinado número de vezes.\n",
    "\n",
    "### *Havoc*\n",
    "\n",
    "O comando `havoc x` pode ser descrito informalmente como uma atribuição a `x` de um valor arbitrário.  Em termos de denotação lógica usando a denotação WPC teremos \n",
    "\n",
    "$$\n",
    "[{\\sf havoc}\\; x \\; ; C] = \\forall x. \\,[C]\n",
    "$$\n",
    "\n",
    "Frequentemente o comando `havoc x` aparece combinado com um invariante `P` num comando `havoc x : P` que designamos \"*havoc such that*\". Informalmente este comando designa uma atribuição arbitrária a `x` mas dentro dos valores que verificam `P`. Ou seja, é equivalente a `havoc x ; assume P`.\n",
    "Esta noção pode ser generalizada para um conjunto de variáveis $\\vec{x}$.\n",
    "\n",
    "Na metodologia *havoc*, o ciclo (${\\sf while} \\; b \\;{\\sf do }\\{\\theta\\} \\;C$), com anotação de invariante $\\theta$ é transformado num fluxo não iterativo da seguinte forma\n",
    "\n",
    "$$\n",
    "{{\\sf assert}\\; \\theta\\; ; \\sf havoc }\\;\\vec{x}:\\theta \\; ; (\\,({\\sf assume }\\; b \\; ; C \\; ; {\\sf assert}\\;\\theta \\; ; {\\sf assume}\\; \\mathit{False} )\\: || \\:\n",
    "{\\sf assume}\\; \\neg b \\,)\n",
    "$$\n",
    "ou, equivalentemente,\n",
    "$$\n",
    "{{\\sf assert}\\; \\theta\\; ; \\sf havoc }\\;\\vec{x} \\; ; (\\,({\\sf assume }\\; b \\wedge \\theta \\; ; \\; C \\; ; {\\sf assert}\\;\\theta \\; ; {\\sf assume}\\; \\mathit{False}) \\: || \\:\n",
    "{\\sf assume}\\; \\neg b \\wedge \\theta \\,)\n",
    "$$\n",
    "onde $\\vec{x}$ representa as *variáveis atribuídas em $C$*.\n",
    "\n",
    "Observe como a denotação do triplo de Hoare $\\{\\phi\\} {\\sf while} \\; b \\;{\\sf do}\\{\\theta\\}\\,C \\,\\{\\psi\\}$,  traduzido desta forma,\n",
    "permite garantir as propriedades de \"inicialização\", \"preservação\" e \"utilidade\" do invariante $\\theta$\n",
    "\n",
    "$$\n",
    "\\begin{array}{l}\n",
    "[\\,{\\sf assume}\\;\\phi\\; ;{{\\sf assert}\\; \\theta\\; ; \\sf havoc }\\;\\vec{x} \\; ; (\\,({\\sf assume }\\; b \\wedge \\theta \\; ; \\; C \\; ; {\\sf assert}\\;\\theta \\; ; {\\sf assume}\\; \\mathit{False}) \\: || \\:\n",
    "{\\sf assume}\\; \\neg b \\wedge \\theta \\,)\\; ; {\\sf assert} \\; \\psi \\,] \\\\ = \\\\\n",
    "\\phi \\to \\theta \\wedge \\forall \\vec{x}. \\, (\\,(b \\wedge \\theta \\to [C\\;; {\\sf assert}\\; \\theta ]) \\wedge (\\neg b \\wedge \\theta \\to \\psi )\\,)\n",
    "\\end{array}\n",
    "$$\n",
    "\n",
    "Note que $[ \\,{\\sf assume}\\; \\mathit{False}\\;; {\\sf assert} \\; \\psi \\,] = \\mathit{False} \\to \\psi = \\mathit{True}$.\n",
    "\n"
   ]
  },
  {
   "cell_type": "code",
   "execution_count": null,
   "metadata": {},
   "outputs": [],
   "source": [
    "from z3 import *\n",
    "\n",
    "def prove(f):\n",
    "    s = Solver()\n",
    "    s.add(Not(f))\n",
    "    r = s.check()\n",
    "    if r == unsat:\n",
    "        print(\"Proved\")\n",
    "    else:\n",
    "        print(\"Failed to prove\")\n",
    "        m = s.model()\n",
    "        for v in m:\n",
    "            print(v,'=', m[v])"
   ]
  },
  {
   "cell_type": "markdown",
   "metadata": {},
   "source": [
    "Considere, por exemplo, o seguinte programa anotado (incluindo o invariante de ciclo) que calcula o produto de dois inteiros.\n",
    "\n",
    "```python\n",
    "assume n > 0 and x == a;\n",
    "x = 0;\n",
    "i = 0;\n",
    "while (i<n):\n",
    "    invariante x == i*a and i <= n\n",
    "    x = x+a;\n",
    "    i = i+1;\n",
    "assert x == n*a   \n",
    "```\n",
    "Para provar que este programa é correcto pelo método *havoc*, teremos que, em primeiro lugar,\n",
    "proceder à sua tradução para a linguagem de fluxos com *havoc*. Uma vez que `x`e `i` são as únicas variáveis atribuidas no ciclo, a tradução dá origem ao seguinte programa, onde `inv = x == i*a and i <= n`:\n",
    "\n",
    "```python\n",
    "assume n>0 and x==a;\n",
    "x = 0; i = 0; \n",
    "assert inv;\n",
    "havoc x; havoc i;\n",
    "((assume i<n and inv; x=x+a; i=i+1; assert inv; assume False) || assume not(i<n) and inv);\n",
    "assert x == n*a\n",
    "```\n",
    "\n",
    "Em seguida calcula-se a denotação lógica deste programa de fluxos (a sua VC) pela WPC.\n",
    "\n",
    "\n",
    "A WPC deste programa resulta na seguinte fórmula lógica, onde ${\\sf Ciclo}$ e ${\\sf Corpo}$ representam, rspectivamente, as 3 últimas e as últimas 2 linhas deste programa de fluxos,  \n",
    "${\\sf inv} = x = i*a \\wedge i \\leq n$,  ${\\sf pre} =n>0 \\wedge x=a$ e  ${\\sf pos}= x=n*a$.\n",
    "\n",
    "$$\n",
    "\\begin{array}{l}\n",
    "{\\sf pre} \\to ({\\sf inv} \\wedge [{\\sf Ciclo}])[0/i][0/x] \\\\\n",
    "\\equiv \\quad \\mbox{(havoc)}\\\\\n",
    "{\\sf pre} \\to ({\\sf inv} \\wedge \\forall x.\\forall i. [{\\sf Corpo}])[0/i][0/x] \\\\\n",
    "\\equiv \\quad \\mbox{(porque $i$ e $x$ estão quantificadas)}\\\\\n",
    "{\\sf pre} \\to {\\sf inv}[0/i][0/x] \\wedge \\forall x.\\forall i. [{\\sf Corpo}] \\\\\n",
    "\\equiv \\quad \\mbox{(porque assume $\\mathit{False}$ dá origem a $\\mathit{False} \\to \\ldots = \\mathit{True}$)} \\\\\n",
    "{\\sf pre} \\to {\\sf inv}[0/i][0/x] \\;\\wedge \\; (\\,\\forall x.\\forall i. \\, (i<n \\wedge {\\sf inv} \\to {\\sf inv}[(i+1)/i][(x+a)/x]) \\,\\wedge\\, (\\neg(i<n) \\wedge {\\sf inv} \\to {\\sf pos}) \\,)\n",
    "\\end{array}\n",
    "$$\n",
    "\n",
    "Observe a acção da quantificação das variáveis atribuidas no corpo do ciclo, ao fazer com que as atribuições `x=0; i=0` não tenham efeito no corpo do ciclo.\n",
    "\n",
    "\n",
    "\n"
   ]
  },
  {
   "cell_type": "markdown",
   "metadata": {},
   "source": [
    "### Exercício 1\n",
    "\n",
    "Complete a prova de correção do programa acima, usando o Z3 para provar a VC que gerou.\n",
    "Note que vai ter que usar `IntVal(0)` para criar a constante `0` como expressão Z3."
   ]
  },
  {
   "cell_type": "code",
   "execution_count": null,
   "metadata": {},
   "outputs": [],
   "source": [
    "# completar"
   ]
  },
  {
   "cell_type": "markdown",
   "metadata": {},
   "source": [
    "### *Unfold* de ciclos\n",
    "\n"
   ]
  },
  {
   "cell_type": "markdown",
   "metadata": {},
   "source": [
    "Uma outra metodologia (chamada *bounded model checking of software*) passa por simular a execução do ciclo, ${\\sf while} \\; b \\;{\\sf do } \\;C$, um determinado número de vezes. \n",
    "Consiste basicamente em desenrolar os ciclos um certo número de vezes ($k$):\n",
    "\n",
    "$$\n",
    "\\begin{array}{ll|ll}\n",
    "{\\sf if} \\; b \\;{\\sf then } \\;C; & \\quad & \\quad & {\\sf if} \\; b \\;{\\sf then } \\;C; \\\\\n",
    "\\quad {\\sf if} \\; b \\;{\\sf then } \\;C; &\\quad & \\quad & \\quad {\\sf if} \\; b \\;{\\sf then } \\;C; \\\\\n",
    "\\qquad \\ldots &\\quad & \\quad & \\qquad \\ldots \\\\\n",
    "\\quad \\qquad {\\sf if} \\; b \\;{\\sf then } \\;\\{C\\;; {\\sf assert}\\; \\neg b \\} &\\quad & \\quad & \\quad \\qquad {\\sf if} \\; b \\;{\\sf then } \\;\\{C\\;; {\\sf assume}\\; \\neg b \\}\n",
    "\\end{array}\n",
    "$$\n",
    "Para garantir a correcção (resp. a completude) desta abordagem, é inserida imediatamente após o desenrolamento do ciclo uma *unwinding assertion* (resp. uma *unwinding assumption*).\n",
    " \n",
    "A *unwinding assertion* é usada para verificar se existem execuções que exigem mais do que $k$ iterações - se não existirem, isso significa que o programa original apenas possui execuções limitadas de comprimento $\\leq k$, e a abordagem é, portanto, correcta.\n",
    "Se o programa tiver execuções ilimitadas ou se não for prático verificar execuções limitadas devido ao seu comprimento, a técnica poderá ainda ser aplicada, mas não será correcta.\n",
    "Nesse caso, é necessário, para garantir completude, adicionar a assunção da condição do ciclo negada (denominada *unwinding assumption*) após a expansão do ciclo, o que excluirá as execuções que exigem mais de $k$ iterações de serem consideradas para verificação.\n",
    "\n",
    "Após o *unfold* do ciclo, temos um programa sem ciclos cuja denotação lógica (a sua VC) pode ser obtida por qualquer das técnicas apresentadas na aula anterior (transformação do programa na linguagem intermédia de fluxo, seguida da geração da VC com WPC ou SPC)."
   ]
  },
  {
   "cell_type": "markdown",
   "metadata": {},
   "source": [
    "### Exercício 2\n",
    "\n",
    "Considere o seguinte programa:\n",
    "```python\n",
    "assume n > 0 and n < 4;\n",
    "x = 1; \n",
    "r = 1; \n",
    "i = 1;\n",
    "while (i < n):\n",
    "    x = x+2;\n",
    "    r = r+x;\n",
    "    i = i+1\n",
    "assert r == n*n;    \n",
    "```\n",
    "\n",
    "Aplique a metedologia do *unfold* de ciclos para provar a correcção deste programa  (tanto pode usar WPC como SPC). Para isso: \n",
    "\n",
    "*a)* Comece por desenrolar o ciclo o número de vezes que achar necessárias.\n",
    "\n",
    "*b)* Escreva a tradução desse programa sem ciclos na linguagem de fluxos (SA se usar a SPC). \n",
    "\n",
    "*c)* Calcule a denotação lógica deste programa de fluxo (a sua VC). \n",
    "\n",
    "*d)* Use o Z3 para provar a VC que gerou."
   ]
  },
  {
   "cell_type": "markdown",
   "metadata": {},
   "source": [
    "### Exercício 3\n",
    "Considere agora que a pré-condição do programa anterior é simplificada para `assume n > 0`, e aplique a técnica do desenrolamento dos ciclos. Exprimente tanto com a *unwinding assertion* como com a *unwinding assumption*.\n",
    "\n",
    "\n",
    "*a)* Pronuncie-se quanto à correcção deste programa, e comente os resultados obtidos.\n",
    "\n",
    "*b)* Aplique agora a metodologia *havoc* para provar a correcção deste programa."
   ]
  },
  {
   "cell_type": "markdown",
   "metadata": {},
   "source": [
    "### Exercício 4\n",
    "\n",
    "Considere o seguinte programa `FACT` para o cálculo do factorial de um número:\n",
    "\n",
    "```python\n",
    "f = 1; i = 1;\n",
    "while (i <= n):\n",
    "    f = f*i;\n",
    "    i = i+1\n",
    "```\n",
    "\n",
    "*a)* Apresente uma especificação adequada para este programa.\n",
    "\n",
    "*b)* Anote convenientemente o programa com a especificação que escreveu e um invariante de ciclo apropriado."
   ]
  },
  {
   "cell_type": "markdown",
   "metadata": {},
   "source": [
    "```python\n",
    "# completar  \n",
    "```"
   ]
  },
  {
   "cell_type": "markdown",
   "metadata": {},
   "source": [
    "### Codificação de funções lógicas\n",
    "\n",
    "Na especificação do programa anterior recorreu certamente à função matemática $(n)!$ que denota o factorial de $n$.\n",
    "Para poder usar um *SMT solver* para o ajudar a verificar a correção do programa face à sua especificação, terá acrescentar à teoria do *SMT solver* a codificação lógica da função factorial, uma vez que a teoria de inteiros não vem munida de tal função.\n",
    "\n",
    "Uma forma de o fazer é definir na teoria de inteiros uma função lógica ${\\sf fact}$ cuja semântica é dada por um conjunto de axiomas. Por exemplo, assim:\n",
    "\n",
    "$$\n",
    "\\begin{array}{l}\n",
    "{\\sf fact} (0) = 1 \\\\\n",
    "\\forall n . \\, n > 0 \\to {\\sf fact}(n) = n * {\\sf fact}(n-1)\n",
    "\\end{array}\n",
    "$$"
   ]
  },
  {
   "cell_type": "markdown",
   "metadata": {},
   "source": [
    "### Exercício 5\n",
    "\n",
    "Codifique a função factorial no Z3, de acordo com a axiomatização apresentada acima. Consulte o manual do Z3 em https://www.cs.tau.ac.il/~msagiv/courses/asv/z3py/guide-examples.htm para saber como declarar e utilizar funções lógicas. Teste a correção da sua axiomatização verificando que o valor de $\\mathsf{fact}(5) = 120$."
   ]
  },
  {
   "cell_type": "code",
   "execution_count": null,
   "metadata": {},
   "outputs": [],
   "source": [
    "# completar"
   ]
  },
  {
   "cell_type": "markdown",
   "metadata": {},
   "source": [
    "### Exercício 6\n",
    "\n",
    "Aplique agora a metodologia *havoc* para provar a correcção do programa `FACT` face à especificação que escreveu."
   ]
  },
  {
   "cell_type": "code",
   "execution_count": null,
   "metadata": {},
   "outputs": [],
   "source": [
    "# completar\n"
   ]
  }
 ],
 "metadata": {
  "kernelspec": {
   "display_name": "Python 3",
   "language": "python",
   "name": "python3"
  },
  "language_info": {
   "codemirror_mode": {
    "name": "ipython",
    "version": 3
   },
   "file_extension": ".py",
   "mimetype": "text/x-python",
   "name": "python",
   "nbconvert_exporter": "python",
   "pygments_lexer": "ipython3",
   "version": "3.8.5"
  }
 },
 "nbformat": 4,
 "nbformat_minor": 2
}
