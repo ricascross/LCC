{
 "cells": [
  {
   "cell_type": "markdown",
   "metadata": {},
   "source": [
    "# Sistemas híbridos\n",
    "\n",
    "\n",
    "*Autómatos híbridos* são modelos de sistemas ciber-físicos. Essencialmente um autómato híbrido é uma *máquina de estados finita*, onde cada estado (designado por *modo de funcionamento*) descreve o comportamento contínuo de um sistema dinâmico modelado por *relações diferenciais ordinárias* (nas variáveis contínuas e nas suas derivadas em relação ao tempo) codificadas num predicado designado por *flow*. Estas variáveis contínuas evoluem num modo de funcionamento enquanto o seu *flow* for válido.\n",
    "Cada transição discreta entre estados (um *switch* entre modos de funcionamento) é representada por um arco anotado com um evento e um predicado (*jump*). O *switch* realiza-se quando o seu *jump* é válido. Ao ocorrer uma transição as variáveis internas dos modos conservam o seu valor, a não ser que lhes seja explicitamente atribuído um novo valor.\n",
    "\n",
    "*Sistemas híbridos* são modelos constituídos por vários autómatos híbridos que, em princípio, evoluem de forma “quase-independente”; a única dependência manifesta-se no sincronismo de duas ou mais transições relativas ao mesmo evento em autómatos distintos.\n",
    "\n",
    "Um sistema híbrido pode ser descrito por um FOTS (sobre o qual podemos verificar propriedades lógicas com as metodologias que já estudamos). Nesse processo o FOTS vai *discretizar* as relações diferenciais ordinárias e vai mapea-las num espaço de estados também discreto.\n",
    "\n",
    "\n",
    "### Exemplo do Termostato\n",
    "\n",
    "Considere o seguinte autómato híbrido que modela o comportamento de um termostato que controla uma caldeira de aquecimento.\n",
    "\n",
    "<img src=\"termostato.png\" width=\"500\"/>\n",
    "\n",
    "Inicialmente a temperatura (aqui representada pela variável $x$) é de 20 graus. Quando a temperatura é menor que 19 graus o termostato pode ligar-se. Como o modo em que o termostato está desligado tem o invariante $x>=18$, esta temperatura estabelece um limite a partir do qual o termostato tem necessariamente que se ligar. O termostato só pode voltar a desligar quando a temperatura excede os 21 graus, fazendo-o necessariamente se esta atingir os 22 graus devido ao invariante no modo em que está ligado.\n"
   ]
  },
  {
   "cell_type": "markdown",
   "metadata": {},
   "source": [
    "## Verificação de autómatos híbridos com FOTS\n",
    "\n",
    "Podemos verificar propriedades de segurança de autómatos híbridos codificando a semântica dos mesmos num FOTS e usando depois os procedimentos de verificação implementados nas aulas anteriores.\n",
    "\n",
    "A ideia básica é incluir nos estados do FOTS para além das variáveis contínuas do autómato híbrido duas variáveis especiais:\n",
    "- uma variável contínua que denota o tempo ($t$ no caso do termostato)\n",
    "- uma variável discreta que denota o *modo de funcionamento* ($m$ no caso do termostato)\n",
    "\n",
    "O estado inicial do FOTS é derivado facilmente a partir da definição do autómato híbrido. Por exemplo, no caso do termostato temos\n",
    "\n",
    "$$\n",
    "t = 0 \\wedge m = \\mathsf{INIT} \\wedge x = 20\n",
    "$$\n",
    "\n",
    "As transições do FOTS incluem os dois tipos de transição que podem ocorrer num autómato híbrido:\n",
    "- Transições *timed* descrevem os *flows* associados a cada modo (a evolução das variáveis contínuas)\n",
    "- Transições *untimed* descrevem os *switches* entre modos\n",
    "\n",
    "As transições *untimed* podem ser obtidas através de uma codificação muito directa das guardas e efeitos especificadas nos *switches*, com a restrição que o tempo não evolui nestas transições, nem as variáveis contínuas se modificam a não ser que lhes seja explicitamente atribuído um novo valor no efeito do *switch*. Por exemplo, no caso do termostato temos 3 transições deste tipo:\n",
    "\n",
    "$$\n",
    "\\begin{array}{c}\n",
    "m = \\mathsf{INIT} \\wedge m' = \\mathsf{OFF} \\wedge x' = x \\wedge t' = t \\\\\n",
    "\\vee\\\\\n",
    "m = \\mathsf{OFF} \\wedge m' = \\mathsf{ON} \\wedge x < 19 \\wedge x' = x \\wedge t' = t \\\\\n",
    "\\vee\\\\\n",
    "m = \\mathsf{ON} \\wedge m' = \\mathsf{OFF} \\wedge x \\ge 21 \\wedge x' = x \\wedge t' = t \n",
    "\\end{array}\n",
    "$$\n",
    "\n",
    "Nas transições *timed* o modo permanece constante, mas o resto das variáveis evoluem de acordo com as restrições indicadas. Os *flows* são especificados indicando qual a derivada em relação ao tempo de cada variável contínua. Para codificar os *flows* no FOTS é necessário fazer a sua *discretização*, ou seja, indicar qual a variação ocorrida num intervalo de tempo $t'-t$. Se a derivada for uma constante a discretização é trivial. Por exemplo, se $\\dot{x} = k$ temos que $x' - x = k(t'-t)$. \n",
    "Se a relação de *flow* é amortecida, como por exemplo no modo $\\mathsf{OFF}$ do termostato, uma pseudo-solução seria aproximar a derivada $\\dot{x}$ por $\\frac{x'-x}{t'-t}$ obtendo-se\n",
    "$5(x' - x) + x*(t'-t) = 0$, mas nesta equação ocorre um produto não-escalar $\\,x*(t'-t)\\,$ e, por isso,  ela não vai ser decidível.\n",
    "Uma sugestão para discretizar consiste em usar um valor constante para substituir a variável $x$, inferido a partir do invariante de modo. Neste caso a equação de flow transforma-se numa inequação.\n",
    "\n",
    "\n",
    "Por exemplo, no caso do *flow* associado ao modo $\\mathsf{OFF}$, $5\\dot{x}+x=0$,  como sabemos que $x \\ge 18$ podemos substituir $x$ por 18 na equação, dando origem à relação $x' - x \\le -\\frac{18}{5}(t'-t)$. \n",
    "No caso do *flow* associado ao modo $\\mathsf{ON}$, $5\\dot{x}+x=25$,  como $x \\le 22$ podemos aproximar $x$ por 22, dando origem à relação $x' - x \\ge \\frac{3}{5}(t'-t)$. \n",
    "\n",
    "Finalmente, é necessário também impor os invariantes dos modos no FOTS. Isso pode ser feito acrescentando a cada transição uma restrição que obriga o invariante a ser cumprido. Temos também que assugurar que o tempo avança.\n",
    "\n",
    "\n",
    "Com esta técnica, no caso do termostato teríamos as seguintes duas transições *timed*:\n",
    "\n",
    "$$\n",
    "\\begin{array}{c}\n",
    "m = \\mathsf{OFF} \\wedge m' = m \\wedge x' - x \\le -\\frac{18}{5}(t'-t) \\wedge x \\ge 18 \\wedge x' \\ge 18 \\wedge t'>t \\\\\n",
    "\\vee\\\\\n",
    "m = \\mathsf{ON} \\wedge m' = m \\wedge x' - x \\ge \\frac{3}{5}(t'-t) \\wedge x \\le 22 \\wedge x' \\le 22 \\wedge t' > t\n",
    "\\end{array}\n",
    "$$\n",
    "\n",
    "Para reduzir os erros na verificação pode-se reduzir a granularidade da discretização subdividindo cada modo em vários sub-modos que cubram toda a gama dos valores permitidos. Por exemplo neste caso poderíamos dividir cada um dos modos em 4 sub-modos, cada um com uma variação de temperatura máxima de 1 grau, cobrindo assim toda a gama de temperaturas possíveis (entre 18 e 22 graus)."
   ]
  },
  {
   "cell_type": "markdown",
   "metadata": {},
   "source": [
    "Na codificação em Z3 é conveniente usar um tipo enumerado para implementar os modos. No caso do termostato podemos declarar esse tipo da seguinte forma."
   ]
  },
  {
   "cell_type": "code",
   "execution_count": 22,
   "metadata": {},
   "outputs": [],
   "source": [
    "from z3 import *\n",
    "\n",
    "Mode, (INIT,ON,OFF) = EnumSort('Mode', ('INIT','ON','OFF'))"
   ]
  },
  {
   "cell_type": "markdown",
   "metadata": {},
   "source": [
    "Podemos agora declarar as variáveis do FOTS correspondente ao termostato da seguinte forma."
   ]
  },
  {
   "cell_type": "code",
   "execution_count": 23,
   "metadata": {},
   "outputs": [],
   "source": [
    "def declare(i):\n",
    "    s = {}\n",
    "    s['t'] = Real('t'+str(i))\n",
    "    s['m'] = Const('m'+str(i),Mode)\n",
    "    s['x'] = Real('x'+str(i))\n",
    "    return s"
   ]
  },
  {
   "cell_type": "markdown",
   "metadata": {},
   "source": [
    "### Exercício 1\n",
    "\n",
    "Codifique os predicados Z3 `init` e `trans` que caracterizam, respectivamente, os estados iniciais e as transições do FOTS correspondente ao termostato."
   ]
  },
  {
   "cell_type": "code",
   "execution_count": 24,
   "metadata": {},
   "outputs": [],
   "source": [
    "def init(s):\n",
    "    # completar\n",
    "    return And(s['m'] == INIT, s['t'] == 0, s['x'] == 20)\n",
    "\n",
    "def trans(s,p):\n",
    "    # untimed\n",
    "    initOff = And(s['m'] == INIT, p['m'] == OFF, p['x'] == s['x'], p['t'] == s['t'])\n",
    "    offOn = And(s['m'] == OFF, p['m'] == ON, s['x'] < 19, p['x'] == s['x'], p['t'] == s['t'])\n",
    "    onOff = And(s['m'] == ON, p['m'] == OFF, s['x'] >= 21, p['x'] == s['x'], p['t'] == s['t'])\n",
    "    \n",
    "    # timed\n",
    "    offOff = And(s['m'] == OFF, p['m'] == s['m'], p['x']-s['x'] <=(-18/5)*(p['t']-s['t']),s['x'] >= 18, p['x'] >= 18, p['t'] > s['t'])\n",
    "    onOn = And(s['m'] == ON, p['m'] == s['m'], p['x']-s['x'] >=(3/5)*(p['t']-s['t']),s['x'] <= 22, p['x'] <=22, p['t'] > s['t'])\n",
    "    \n",
    "    return Or(initOff,offOn,onOff,offOff,onOn)"
   ]
  },
  {
   "cell_type": "markdown",
   "metadata": {},
   "source": [
    "### Exercício 2\n",
    "\n",
    "Adapte a função `gera_traco` implementada nas aulas anterior por forma a imprimir todas as variáveis continuas como números de virgula flutuante. Para saber qual o tipo (*sort*) de uma variável use o método `sort()`. No caso das variáveis contínuas o tipo será `RealSort()`. Para converter o valor `v` de uma variável contínua do Z3 para um float do Python use a expressão `float(v.numerator_as_long())/float(v.denominator_as_long())`."
   ]
  },
  {
   "cell_type": "code",
   "execution_count": 25,
   "metadata": {},
   "outputs": [
    {
     "name": "stdout",
     "output_type": "stream",
     "text": [
      "0\n",
      "t = 0.0\n",
      "m = INIT\n",
      "x = 20.0\n",
      "1\n",
      "t = 0.0\n",
      "m = OFF\n",
      "x = 20.0\n",
      "2\n",
      "t = 0.18518518518518517\n",
      "m = OFF\n",
      "x = 19.333333333333332\n",
      "3\n",
      "t = 0.37037037037037035\n",
      "m = OFF\n",
      "x = 18.666666666666668\n",
      "4\n",
      "t = 0.5555555555555556\n",
      "m = OFF\n",
      "x = 18.0\n"
     ]
    }
   ],
   "source": [
    "def gera_traco(declare,init,trans,k):\n",
    "    s = Solver()\n",
    "    \n",
    "    # it's like an authomata\n",
    "    # declare all k to states\n",
    "    trace = [declare(i) for i in range(k)]\n",
    "    \n",
    "    # initializate state 0\n",
    "    s.add(init(trace[0]))\n",
    "    \n",
    "    # create a link between two spaces\n",
    "    for i in range(k-1):\n",
    "        s.add(trans(trace[i], trace[i+1]))\n",
    "    \n",
    "    if s.check() == sat:\n",
    "        m = s.model()\n",
    "        for i in range(k):\n",
    "            print(i)\n",
    "            for v in trace[i]:\n",
    "                r = m[trace[i][v]]\n",
    "                if r.sort() == RealSort():\n",
    "                    print(v, '=', float(r.numerator_as_long())/float(r.denominator_as_long()))\n",
    "                else:  \n",
    "                    print(v,'=', r)\n",
    "                \n",
    "gera_traco(declare,init,trans,5)"
   ]
  },
  {
   "cell_type": "markdown",
   "metadata": {},
   "source": [
    "### Exercício 3\n",
    "\n",
    "Adapte a função `bmc_always` implementada nas aulas anterior para, tal como no exercício anterior, quando ocorrer um contra-exemplo imprima também todas as variáveis continuas como números de virgula flutuante. "
   ]
  },
  {
   "cell_type": "code",
   "execution_count": 26,
   "metadata": {},
   "outputs": [
    {
     "name": "stdout",
     "output_type": "stream",
     "text": [
      "Property is valid up to traces of length 10\n"
     ]
    }
   ],
   "source": [
    "def bmc_always(declare,init,trans,inv,K):\n",
    "    for k in range(1,K+1):\n",
    "        s = Solver()\n",
    "        # it's like an authomata\n",
    "        # declare all k to states\n",
    "        trace = [declare(i) for i in range(k)]\n",
    "\n",
    "        # initializate state 0\n",
    "        s.add(init(trace[0]))\n",
    "\n",
    "        # create a link between two spaces\n",
    "        for i in range(k-1):\n",
    "            s.add(trans(trace[i], trace[i+1]))\n",
    "            \n",
    "        s.add(Not(inv(trace[k-1])))\n",
    "        \n",
    "        if s.check() == sat:\n",
    "            m = s.model()\n",
    "            for i in range(k):\n",
    "                print(i)\n",
    "                for v in trace[i]:\n",
    "                    print(v,'=', m[trace[i][v]])\n",
    "            return\n",
    "        \n",
    "    print (\"Property is valid up to traces of length \"+str(K))\n",
    "        \n",
    "\n",
    "def positive(s):\n",
    "    return s['x'] >= 0\n",
    "\n",
    "bmc_always(declare,init,trans,positive,10)"
   ]
  },
  {
   "cell_type": "markdown",
   "metadata": {},
   "source": [
    "### Exercício 4\n",
    "\n",
    "A propriedade \"o termostato irá inevitavelmente estar ligado\" é uma propriedade de *liveness* exprimível como $F\\ (m = \\mathsf{ON})$. No entanto a propriedade \"passado 1 segundo o termostato irá inevitavelmente estar ligado\" já é uma propriedade de *safety*. Explique porquê e verifique também se esta propriedade se verifica no termostato."
   ]
  },
  {
   "cell_type": "code",
   "execution_count": 27,
   "metadata": {},
   "outputs": [
    {
     "name": "stdout",
     "output_type": "stream",
     "text": [
      "0\n",
      "t = 0\n",
      "m = INIT\n",
      "x = 20\n",
      "1\n",
      "t = 0\n",
      "m = OFF\n",
      "x = 20\n",
      "2\n",
      "t = 5/13\n",
      "m = OFF\n",
      "x = 242/13\n",
      "3\n",
      "t = 5/13\n",
      "m = ON\n",
      "x = 242/13\n",
      "4\n",
      "t = 1\n",
      "m = ON\n",
      "x = 21\n",
      "5\n",
      "t = 1\n",
      "m = OFF\n",
      "x = 21\n"
     ]
    }
   ],
   "source": [
    "def prop(s):\n",
    "    return Implies(s['t'] == 1, s['m'] == ON)\n",
    "\n",
    "\n",
    "\n",
    "bmc_always(declare,init,trans,prop,10)"
   ]
  },
  {
   "cell_type": "markdown",
   "metadata": {},
   "source": [
    "### Exercício 5\n",
    "\n",
    "Como pode verificar o contra-exemplo obtido não é realista e deve-se à aproximação feita na discretização, que permite mais comportamentos que os realmente possíveis no sistema real. Isto faz com que seja possível termos falsos contra-exemplos para algumas propriedades. Para reduzir estes falsos contra-exemplos podemos tentar melhorar essa discretização, por exemplo, tentando inferir invariantes mais fortes para as variáveis contínuas em cada um dos modos. No caso do termostato sabemos que em qualquer dos modos de facto temos que $18 \\le x \\le 22$. Usando esta informação refine a definição do predicado `trans` e volte a verificar a propriedade. Se o contra-exemplo continuar a ser claramente inválido podemos refinar mais cada um dos modos, desdobrando-os para gamas da variável $x$ mais apertadas, por exemplo, dividindo cada um deles em 2 sub-modos onde $18 \\le x \\le 20$ e $20 \\le x \\le 22$."
   ]
  },
  {
   "cell_type": "code",
   "execution_count": 32,
   "metadata": {},
   "outputs": [
    {
     "name": "stdout",
     "output_type": "stream",
     "text": [
      "Property is valid up to traces of length 10\n"
     ]
    }
   ],
   "source": [
    "def trans(s,p):\n",
    "    # untimed\n",
    "    initOff = And(s['m'] == INIT, p['m'] == OFF, p['x'] == s['x'], p['t'] == s['t'])\n",
    "    offOn = And(s['m'] == OFF, p['m'] == ON, s['x'] < 19, p['x'] == s['x'], p['t'] == s['t'])\n",
    "    onOff = And(s['m'] == ON, p['m'] == OFF, s['x'] >= 21, p['x'] == s['x'], p['t'] == s['t'])\n",
    "    \n",
    "    # timed\n",
    "    offOff = And(s['m'] == OFF, p['m'] == s['m'], p['x']-s['x'] <=(-18/5)*(p['t']-s['t']),p['x']-s['x'] >=(-22/5)*(p['t']-s['t']),s['x'] >= 18,p['x']>=18, p['x'] <=22, s['x'] <= 22, p['t'] > s['t'])\n",
    "    \n",
    "    onOn = And(s['m'] == ON, p['m'] == s['m'], p['x']-s['x'] >=(3/5)*(p['t']-s['t']), p['x']-s['x'] <=(7/5)*(p['t']-s['t']),s['x'] >= 18,p['x']>=18,s['x'] <= 22, p['x'] <=22, p['t'] > s['t'])\n",
    "    \n",
    "    return Or(initOff,offOn,onOff,offOff,onOn)\n",
    "\n",
    "def prop(s):\n",
    "    return Implies(s['t'] == 1, s['m'] == ON)\n",
    "\n",
    "\n",
    "\n",
    "bmc_always(declare,init,trans,prop,10)"
   ]
  },
  {
   "cell_type": "markdown",
   "metadata": {},
   "source": [
    "### Exercício 6\n",
    "\n",
    "Considere o seguinte autómato híbrido que modela um contador que no modo $\\mathsf{ON}$ evolui síncronamente com o tempo. Neste caso vamos assumir que a variável de tempo é designada $\\tau$ e variável de modo por $n$.\n",
    "\n",
    "<img src=\"contador.png\" width=\"500\"/>\n",
    "\n",
    "Modele este autómato com um FOTS em Z3 e verifique que o valor do contador é sempre não superior ao tempo decorrido."
   ]
  },
  {
   "cell_type": "code",
   "execution_count": 33,
   "metadata": {},
   "outputs": [
    {
     "name": "stdout",
     "output_type": "stream",
     "text": [
      "Property is valid up to traces of length 10\n"
     ]
    }
   ],
   "source": [
    "def declare(i):\n",
    "    s = {}\n",
    "    s['u'] = Real('u'+str(i))\n",
    "    s['n'] = Const('n'+str(i),Mode)\n",
    "    s['c'] = Real('c'+str(i))\n",
    "    return s\n",
    "\n",
    "def init(s):\n",
    "    return And(s['u'] == 0, s['c'] == 0, s['n'] == INIT)\n",
    "    \n",
    "def trans(s,p):\n",
    "    # untimed\n",
    "    initOff = And(s['n'] == INIT, p['n'] == OFF, p['c'] == s['c'], p['u'] == s['u'])\n",
    "    offOn = And(s['n'] == OFF, p['n'] == ON, p['c'] == s['c'], p['u'] == s['u'])\n",
    "    onOff = And(s['n'] == ON, p['n'] == OFF, p['c'] == s['c'], p['u'] == s['u'])\n",
    "    \n",
    "    #timed\n",
    "    offOff = And(s['n'] == OFF, p['n'] == OFF, p['c']-s['c'] == 0*(p['u'] - s['u']), p['u'] > s['u'])\n",
    "    onOn = And(s['n'] == ON, p['n'] == ON, p['c']-s['c'] == 0*(p['u'] - s['u']), p['u'] > s['u']) # falta alterar coisas\n",
    "    \n",
    "    return Or(initOff,offOn,onOff,offOff,onOn)\n",
    "\n",
    "def slower(s):\n",
    "    return s['c'] <= s['u']\n",
    "\n",
    "    \n",
    "bmc_always(declare,init,trans,slower,10)"
   ]
  },
  {
   "cell_type": "markdown",
   "metadata": {},
   "source": [
    "## Verificação de sistemas híbridos com FOTS"
   ]
  },
  {
   "cell_type": "markdown",
   "metadata": {},
   "source": [
    "Se quisermos verificar propriedades sobre um sistema híbrido, por exemplo, sobre o sistema que incluiu os dois autómatos acima, temos que modelar a evolução de todos os seus autómatos num único FOTS. Os estados deste FOTS correspondem ao produto cartesiano dos estados dos vários autómatos, sendo o estado inicial caracterizado pela conjunção dos predicados iniciais de todos eles. Por exemplo, num sistema híbrido com um termostato e um contador,  o estado inicial seria caracterizado pelo seguinte predicado.\n",
    "\n",
    "$$\n",
    "m = \\mathsf{INIT} \\wedge x = 20 \\wedge t = 0 \\wedge n = \\mathsf{INIT} \\wedge c = 0 \\wedge \\tau = 0\n",
    "$$\n",
    "\n",
    "Para tal temos que considerar como é que as transições dos diferentes autómatos estão sincronizadas:\n",
    "\n",
    "- as transições *timed* de diferentes autómatos ocorrem simultaneamente sse o intervalo de tempo decorrido for igual em todos os *flows*\n",
    "- as transições *untimed* de diferentes autómatos ocorrem simultaneamente sse o evento que ocorre for igual em todos os *switches*\n",
    "\n",
    "No sistema híbrido exemplo, a transição *untimed* relativa ao evento $\\mathsf{init}$ seria caracterizada pela seguinte restrição.\n",
    "\n",
    "$$\n",
    "m = \\mathsf{INIT} \\wedge m' = \\mathsf{OFF} \\wedge x' = x \\wedge t' = t \\wedge n = \\mathsf{INIT} \\wedge n' = \\mathsf{OFF} \\wedge c' = c \\wedge \\tau' = \\tau\n",
    "$$\n",
    "\n",
    "No caso das transições *timed* temos que considerar todas as combinações de transições *timed* nos diferentes modos. Por exemplo, quando os dois autómatos estão no estado $\\mathsf{OFF}$ o *flow* pode ser caracterizado pela seguinte restrição (sem considerar o refinamento introduzido no exercício 5).\n",
    "\n",
    "$$\n",
    "\\begin{array}{c}\n",
    "m = \\mathsf{OFF} \\wedge m' = m \\wedge x' - x \\le -\\frac{18}{5}(t'-t) \\wedge x \\ge 18 \\wedge x' \\ge 18 \\wedge t'>t\\\\\n",
    "\\wedge\\\\\n",
    "n = \\mathsf{OFF} \\wedge n' = n \\wedge c' - c = 0 \\wedge \\tau' > \\tau\\\\\n",
    "\\wedge\\\\\n",
    "t' - t = \\tau' - \\tau\n",
    "\\end{array}\n",
    "$$"
   ]
  },
  {
   "cell_type": "markdown",
   "metadata": {},
   "source": [
    "### Exercício 7\n",
    "\n",
    "Modele este sistema híbrido em Z3 e gere um traço com 5 estados."
   ]
  },
  {
   "cell_type": "code",
   "execution_count": null,
   "metadata": {},
   "outputs": [],
   "source": [
    "# completar "
   ]
  },
  {
   "cell_type": "markdown",
   "metadata": {},
   "source": [
    "### Exercício 8\n",
    "\n",
    "Verifique que o contador só é positivo passados pelo menos 0.2 segundos."
   ]
  },
  {
   "cell_type": "code",
   "execution_count": null,
   "metadata": {},
   "outputs": [],
   "source": [
    "# completar "
   ]
  }
 ],
 "metadata": {
  "kernelspec": {
   "display_name": "Python 3",
   "language": "python",
   "name": "python3"
  },
  "language_info": {
   "codemirror_mode": {
    "name": "ipython",
    "version": 3
   },
   "file_extension": ".py",
   "mimetype": "text/x-python",
   "name": "python",
   "nbconvert_exporter": "python",
   "pygments_lexer": "ipython3",
   "version": "3.8.5"
  }
 },
 "nbformat": 4,
 "nbformat_minor": 2
}
