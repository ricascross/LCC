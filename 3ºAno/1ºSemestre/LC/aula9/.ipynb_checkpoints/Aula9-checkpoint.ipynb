{
 "cells": [
  {
   "cell_type": "markdown",
   "metadata": {},
   "source": [
    "# Verificação Indutiva\n",
    "\n",
    "Na aula passada vimos como modelar sistemas dinâmicos com *First-order Transition Systems* (FOTSs) e como verificar propriedades de segurança e animação sobre estes sistemas com *Bounded Model Checking* (BMC). O procedimento de BMC verifica se uma propriedade é válida num FOTS considerando apenas um número limitado de estados de execução. Se quisermos verificar uma propriedade para qualquer execução não limitada do FOTS temos que usar um procedimento alternativo. Nesta aula vamos usar indução para fazer verificação em traços não limitadados."
   ]
  },
  {
   "cell_type": "markdown",
   "metadata": {},
   "source": [
    "## Verificação indutiva de invariantes\n",
    "\n",
    "No caso da verificação de propriedades de segurança $G\\ \\phi$, para verificar o invariante $\\phi$ por indução temos que verificar as seguintes condições:\n",
    "- $\\phi$ é válido nos estados iniciais, ou seja, $\\mathit{init}(s) \\rightarrow \\phi(s)$, negacao $init(s) \\wedge \\neg \\phi(s)$\n",
    "- Para qualquer estado, assumindo que $\\phi$ é verdade, se executarmos uma transição, $\\phi$ continua a ser verdade no próximo estado, ou seja, $\\phi(s) \\wedge \\mathit{trans}(s,s') \\rightarrow \\phi(s')$, negação $\\phi(s) \\wedge \\mathit{trans}(s,s') \\wedge \\neg \\phi(s')$."
   ]
  },
  {
   "cell_type": "markdown",
   "metadata": {},
   "source": [
    "### Exercício 1\n",
    "\n",
    "Implemente o método `induction_always` para verificação de invariantes por indução. Note que terá que testar a validade das duas condições acima recorrendo à satisfiabilidade, ou seja, usando o solver para encontrar contra-exemplos, devendo o procedimento reportar qual das propriedades falha. Por exemplo, no caso da primeira deve procurar uma valoração que satisfaça $\\mathit{init}(s) \\wedge \\neg \\phi(s)$."
   ]
  },
  {
   "cell_type": "code",
   "execution_count": 3,
   "metadata": {},
   "outputs": [],
   "source": [
    "from z3 import *\n",
    "\n",
    "def induction_always(declare,init,trans,inv):\n",
    "    trace = [declare(i) for i in range(2)]\n",
    "    \n",
    "    # provar caso base\n",
    "    s = Solver()\n",
    "    s.add(init(trace[0]))\n",
    "    s.add(Not(inv(trace[0])))\n",
    "    \n",
    "    r = s.check()\n",
    "    \n",
    "    if r == sat:\n",
    "        m = s.model()\n",
    "        printf(\" A propriedade falha no estado inicial\")\n",
    "        \n",
    "        for v in trace[0]:\n",
    "            print(v, '=', m[trace[0][v]])\n",
    "        return\n",
    "    if r != unsat:\n",
    "        return \n",
    "    \n",
    "    # provar caso indutivo\n",
    "    s = Solver()\n",
    "    s.add(inv(trace[0]))\n",
    "    s.add(trans(trace[0], trace[1]))\n",
    "    s.add(Not(inv(trace[1])))\n",
    "    \n",
    "    r = s.check()\n",
    "    \n",
    "    if r==sat:\n",
    "        m = s.model()\n",
    "        print(\"A propriedade falha no passo indutivo que começa em\")\n",
    "        for v in trace[0]:\n",
    "            print(v, 'm', m[trace[0][v]])\n",
    "        return\n",
    "    \n",
    "    if r == unsat:\n",
    "        print(\"A propriedade verifica-se.\")"
   ]
  },
  {
   "cell_type": "markdown",
   "metadata": {},
   "source": [
    "Usando este procedimento podemos tentar verificar a propriedade $G (x \\ge 0)$ sobre o programa\n",
    "\n",
    "```Python\n",
    "{ x >= 3 }\n",
    "0: while (x>0):\n",
    "1:    x = x-1\n",
    "2: stop\n",
    "```"
   ]
  },
  {
   "cell_type": "code",
   "execution_count": 4,
   "metadata": {},
   "outputs": [
    {
     "name": "stdout",
     "output_type": "stream",
     "text": [
      "A propriedade falha no passo indutivo que começa em\n",
      "pc m 1\n",
      "x m 0\n"
     ]
    }
   ],
   "source": [
    "def declare(i):\n",
    "    state = {}\n",
    "    state['pc'] = Int('pc'+str(i))\n",
    "    state['x'] = Int('x'+str(i))\n",
    "    return state\n",
    "\n",
    "def init(state):\n",
    "    return And(state['pc'] == 0, state['x']>=3)\n",
    "\n",
    "def trans(curr,prox):\n",
    "    t01 = And(curr['pc'] == 0,curr['x'] > 0,prox['pc'] == 1,prox['x'] == curr['x'])\n",
    "    t02 = And(curr['pc'] == 0,curr['x'] <= 0,prox['pc'] == 2,prox['x'] == curr['x'])\n",
    "    t10 = And(curr['pc'] == 1,prox['pc'] == 0,prox['x'] == curr['x']-1)\n",
    "    t22 = And(curr['pc'] == 2,prox['pc'] == 2,prox['x'] == curr['x'])\n",
    "    return Or(t02,t01,t10,t22)\n",
    "\n",
    "def positive(state):\n",
    "    return (state['x'] >= 0)\n",
    "\n",
    "induction_always(declare,init,trans,positive)"
   ]
  },
  {
   "cell_type": "markdown",
   "metadata": {},
   "source": [
    "Como se pode verificar, a propriedade anterior, embora seja verdade, não pode ser verificada por indução, pois o passo indutivo falha quando $\\mathit{pc} = 1$ e $x = 0$. De facto, este contra-exemplo para o passo de indução não é realista, dado que este estado não é acessível a partir do estado inicial. Para verificarmos esta propriedade por indução temos que encontrar um invariante $\\phi$ que seja mais forte que o desejado, ou seja, $\\phi(x,\\mathit{pc}) \\rightarrow x \\ge 0$, e que seja verificável por indução."
   ]
  },
  {
   "cell_type": "markdown",
   "metadata": {},
   "source": [
    "### Exercício 2\n",
    "\n",
    "Encontre uma propriedade mais forte que $x \\ge 0$ e que seja verificável por indução.\n",
    "\n",
    "if($pc = 1, x \\geq 0, x > 0$)"
   ]
  },
  {
   "cell_type": "code",
   "execution_count": 5,
   "metadata": {},
   "outputs": [
    {
     "name": "stdout",
     "output_type": "stream",
     "text": [
      "A propriedade verifica-se.\n"
     ]
    }
   ],
   "source": [
    "# completar\n",
    "def positive_stronger(state):\n",
    "    return If(state['pc'] == 1, state['x'] > 0, state['x'] >= 0)\n",
    "\n",
    "induction_always(declare, init, trans, positive_stronger)"
   ]
  },
  {
   "cell_type": "markdown",
   "metadata": {},
   "source": [
    "### Exercício 3\n",
    "\n",
    "Utilize o Z3 para verificar que essa propriedade é realmente mais forte que $x \\ge 0$."
   ]
  },
  {
   "cell_type": "code",
   "execution_count": 6,
   "metadata": {},
   "outputs": [
    {
     "data": {
      "text/html": [
       "<b>unsat</b>"
      ],
      "text/plain": [
       "unsat"
      ]
     },
     "execution_count": 6,
     "metadata": {},
     "output_type": "execute_result"
    }
   ],
   "source": [
    "# completar\n",
    "s = Solver()\n",
    "state = declare(0)\n",
    "s.add(positive_stronger(state))\n",
    "s.add(Not(positive(state)))\n",
    "\n",
    "s.check()"
   ]
  },
  {
   "cell_type": "markdown",
   "metadata": {},
   "source": [
    "Nem sempre é fácil encontrar um invariante indutivo mais forte que o desejado. Um procedimento de verificação alternativo que pode ser utilizado nesses casos é a designada $k$-indução. A ideia é generalizar a indução simples assumindo no passo indutivo que o invariante é válido nos $k$ estados anteriores. Claro que neste caso também será necessário verificar que a propriedade é válida nos $k$ primeiros estados. Com esta generalização é possível verificar que $x \\ge 0$ é um invariante recorrendo a $k$-indução com $k=2$."
   ]
  },
  {
   "cell_type": "markdown",
   "metadata": {},
   "source": [
    "### Exercício 4\n",
    "\n",
    "Implemente o método `kinduction_always` para verificação de invariantes por $k$-indução."
   ]
  },
  {
   "cell_type": "code",
   "execution_count": 10,
   "metadata": {},
   "outputs": [
    {
     "name": "stdout",
     "output_type": "stream",
     "text": [
      "A propriedade verifica-se.\n"
     ]
    }
   ],
   "source": [
    "def kinduction_always(declare,init,trans,inv,k):\n",
    "    # completar\n",
    "    trace = [declare(i) for i in range(k+1)]\n",
    "    \n",
    "    # provar caso base (os primeiros k estados)\n",
    "    s = Solver()\n",
    "    s.add(init(trace[0]))\n",
    "    for i in range(k-1):\n",
    "        s.add(trans(trace[i], trace[i+1]))\n",
    "    s.add(Or([Not(inv(trace[i])) for i in range(k)]))\n",
    "    \n",
    "    r = s.check()\n",
    "    \n",
    "    if r == sat:\n",
    "        m = s.model()\n",
    "        printf(\" A propriedade falha no caso base começado em: \")\n",
    "        for v in trace[0]:\n",
    "            print(v, '=', m[trace[0][v]])\n",
    "        return\n",
    "    if r != unsat:\n",
    "        return \n",
    "    \n",
    "    \n",
    "    \n",
    "    # provar caso indutivo\n",
    "    s = Solver()\n",
    "    for i in range(k):\n",
    "        s.add(trans(trace[i], trace[i+1]))\n",
    "        s.add(inv(trace[i]))\n",
    "    s.add(Not(inv(trace[k])))\n",
    "    \n",
    "    r = s.check()\n",
    "    \n",
    "    if r==sat:\n",
    "        m = s.model()\n",
    "        print(\"A propriedade falha no passo k indutivo que começa em\")\n",
    "        for v in trace[0]:\n",
    "            print(v, 'm', m[trace[0][v]])\n",
    "        return\n",
    "    \n",
    "    if r == unsat:\n",
    "        print(\"A propriedade verifica-se.\")\n",
    "    \n",
    "kinduction_always(declare,init,trans,positive,2)"
   ]
  },
  {
   "cell_type": "markdown",
   "metadata": {},
   "source": [
    "## Verificação de propriedades de animação por indução\n",
    "\n",
    "Como vimos, podemos verificar propriedades de animação do tipo $F\\ \\phi$ usando BMC. Mais uma vez, se quisermos verificar estas proprieades para qualquer execução ilimitada temos que usar um procedimento alternativo. Uma possibilidade consiste em reduzir a verificação dessas propriedades à verificação de uma propriedade de segurança, mais concretamente um invariante, que possa ser verificado por indução.\n",
    "\n",
    "Por exemplo, uma técnica que pode ser usada para verificar uma propriedade de animação do tipo $F\\ (G\\ \\phi)$, passa por descobrir um *variante* $V$ que satisfaz as seguintes condições:\n",
    "- O variante é sempre positivo, ou seja, $G\\ (V(s) \\ge 0)$\n",
    "- O variante descresce sempre (estritamente) ou atinge o valor 0, ou seja, $G\\ (\\forall s' . \\mathit{trans}(s,s') \\rightarrow (V(s') < V(s) \\vee V(s') = 0))$\n",
    "- Quando o variante é 0 verifica-se necessariamente $\\phi$, ou seja, $G\\ (V(s)=0 \\rightarrow \\phi(s))$\n",
    "\n",
    "A terminação de um programa é um dos exemplos de propriedade que encaixa neste padrão. Por exemplo, para o programa acima a terminação pode ser expressa por $F\\ (G\\ \\mathit{pc}=2)$ (note que devido ao lacete no estado final, o programa permanece indefinidamente no estado final).\n",
    "\n",
    "Note que a segunda condição recorre a uma quantificação universal sobre os possíveis estados alcançáveis por uma transição a partir de cada estado."
   ]
  },
  {
   "cell_type": "markdown",
   "metadata": {},
   "source": [
    "### Exercício 5\n",
    "\n",
    "Descubra o variante que permite provar por indução que o programa acima termina. Encontre também os menores valores de $k$ que permitem provar as condições acima por $k$-indução."
   ]
  },
  {
   "cell_type": "code",
   "execution_count": 26,
   "metadata": {},
   "outputs": [
    {
     "name": "stdout",
     "output_type": "stream",
     "text": [
      "A propriedade verifica-se.\n",
      "A propriedade verifica-se.\n",
      "A propriedade verifica-se.\n"
     ]
    }
   ],
   "source": [
    "def variante(state):\n",
    "    return 2*state['x']-state['pc']+2\n",
    "\n",
    "def positivo(state):\n",
    "    return variante(state) >= 0\n",
    "    \n",
    "kinduction_always(declare, init, trans, positivo, 3)\n",
    "\n",
    "def decresce(state):\n",
    "    state1 = declare(-1)\n",
    "    return ForAll(list(state1.values()), Implies(trans(state, state1), \\\n",
    "                                                 Or(variante(state1)<variante(state), variante(state1) == 0)))\n",
    "\n",
    "kinduction_always(declare, init, trans, decresce, 3)\n",
    "\n",
    "def util(state):\n",
    "    return Implies(variante(state) == 0, state['pc'] == 2)\n",
    "\n",
    "kinduction_always(declare, init, trans, util, 3)"
   ]
  },
  {
   "cell_type": "markdown",
   "metadata": {},
   "source": [
    "### Exercício 6\n",
    "\n",
    "Encontrar um variante que decresça em todas as transições nem sempre é fácil. Podemos relaxar a segunda condição acima e exigir que o variante apenas tenha que decrescer estritamente a cada $l$ transições. Neste caso dizemos que temos um *lookahead* de $l$. Altere a definição da função decrescente por forma a considerar um lookahead de 2 e encontre um variante mais simples que o anterior que lhe permita verificar a terminação do programa."
   ]
  },
  {
   "cell_type": "code",
   "execution_count": null,
   "metadata": {},
   "outputs": [],
   "source": [
    "# completar"
   ]
  }
 ],
 "metadata": {
  "kernelspec": {
   "display_name": "Python 3",
   "language": "python",
   "name": "python3"
  },
  "language_info": {
   "codemirror_mode": {
    "name": "ipython",
    "version": 3
   },
   "file_extension": ".py",
   "mimetype": "text/x-python",
   "name": "python",
   "nbconvert_exporter": "python",
   "pygments_lexer": "ipython3",
   "version": "3.8.5"
  }
 },
 "nbformat": 4,
 "nbformat_minor": 2
}
