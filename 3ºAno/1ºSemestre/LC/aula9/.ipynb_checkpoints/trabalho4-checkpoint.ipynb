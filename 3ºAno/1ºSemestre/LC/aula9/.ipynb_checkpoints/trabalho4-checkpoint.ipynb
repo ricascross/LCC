{
 "cells": [
  {
   "cell_type": "markdown",
   "metadata": {},
   "source": [
    "Como o assert não verificava a propriedade, descobrimos um invariante do programa e a propriedade verificou-se."
   ]
  },
  {
   "cell_type": "code",
   "execution_count": 93,
   "metadata": {},
   "outputs": [],
   "source": [
    "from z3 import *\n",
    "\n",
    "def induction(declare, init, trans, equal):\n",
    "    trace = [declare(i) for i in range(2)]\n",
    "    \n",
    "    # provar caso base\n",
    "    s = Solver()\n",
    "    s.add(init(trace[0]))\n",
    "    s.add(Not(equal(trace[0])))\n",
    "    \n",
    "    r = s.check()\n",
    "\n",
    "    if r == sat:\n",
    "        m = s.model()\n",
    "        print(\" A propriedade falha no estado inicial\")\n",
    "        \n",
    "        for v in trace[0]:\n",
    "            print(v, '=', m[trace[0][v]])\n",
    "        return\n",
    "    if r != unsat:\n",
    "        return\n",
    "    \n",
    "      # provar caso indutivo\n",
    "    s = Solver()\n",
    "    s.add(equal(trace[0]))\n",
    "    s.add(trans(trace[0], trace[1]))\n",
    "    s.add(Not(equal(trace[1])))\n",
    "    \n",
    "    r = s.check()\n",
    "    \n",
    "    if r==sat:\n",
    "        m = s.model()\n",
    "        print(\"A propriedade falha no passo indutivo que começa em\")\n",
    "        for v in trace[0]:\n",
    "            print(v, 'm', m[trace[0][v]])\n",
    "        return\n",
    "    \n",
    "    if r == unsat:\n",
    "        print(\"A propriedade verifica-se.\")"
   ]
  },
  {
   "cell_type": "code",
   "execution_count": 94,
   "metadata": {},
   "outputs": [
    {
     "name": "stdout",
     "output_type": "stream",
     "text": [
      "A propriedade verifica-se.\n"
     ]
    }
   ],
   "source": [
    "def declare(i):\n",
    "    state= {}\n",
    "    state['pc'] = Int('pc'+str(i))\n",
    "    \n",
    "    state['m'],state['n'],state['r'],state['x'],state['y'] = BitVecs('m n r x y', 16)\n",
    "    \n",
    "    '''\n",
    "    state['m'] = BitVec('m', BitVecSort(16))\n",
    "    state['n'] = BitVec('n', BitVecSort(16))\n",
    "    state['r'] = BitVec('r', BitVecSort(16))\n",
    "    state['x'] = BitVec('x', BitVecSort(16))\n",
    "    state['y'] = BitVec('y', BitVecSort(16))\n",
    "    '''\n",
    "    return state\n",
    "    \n",
    "def init(state):\n",
    "    return And(state['pc'] == 0, state['m'] >= 0, state['n'] >= 0, state['r'] == 0, state['x'] == state['m'], state['y'] == state['n']) \n",
    "\n",
    "def trans(curr, prox):\n",
    "    t01 = And(curr['pc'] == 0, curr['y'] > 0, prox['pc'] == 1, prox['y'] == curr['y'], prox['m'] == curr['m'], prox['n'] == curr['n'], prox['r'] == curr['r'], prox['x'] == curr['x'])\n",
    "    t03 = And(curr['pc'] == 0, curr['y'] <= 0, prox['pc'] == 3, prox['y'] == curr['y'], prox['m'] == curr['m'], prox['n'] == curr['n'], prox['r'] == curr['r'], prox['x'] == curr['x'])\n",
    "    t12 = And(curr['pc'] == 1, (curr['y'] & 1) == 1, prox['pc'] == 2, prox['y'] == curr['y']-1, prox['m'] == curr['m'], prox['n'] == curr['n'], prox['r'] == curr['r']+curr['x'], prox['x'] == curr['x'])\n",
    "    t122 = And(curr['pc'] == 1, (curr['y'] & 1) == 0, prox['pc'] == 2, prox['y'] == curr['y'], prox['m'] == curr['m'], prox['n'] == curr['n'], prox['r'] == curr['r'], prox['x'] == curr['x'])\n",
    "    t20 = And(curr['pc'] == 2, prox['pc'] == 0, prox['y'] == curr['y'] >> 1, prox['m'] == curr['m'], prox['n'] == curr['n'], prox['r'] == curr['r'], prox['x'] == curr['x'] << 1)\n",
    "    t33 = And(curr['pc'] == 3, prox['pc'] == 3, prox['y'] == curr['y'], prox['m'] == curr['m'], prox['n'] == curr['n'], prox['r'] == curr['r'], prox['x'] == curr['x'])\n",
    "    \n",
    "    return Or(t01, t03, t12, t122, t20, t33)\n",
    "    \n",
    "def equal(state):\n",
    "    return (state['m']*state['n'] == state['x']*state['y']+state['r'])\n",
    "    \n",
    "induction(declare, init, trans, equal)\n",
    "\n"
   ]
  },
  {
   "cell_type": "code",
   "execution_count": null,
   "metadata": {},
   "outputs": [],
   "source": []
  },
  {
   "cell_type": "code",
   "execution_count": null,
   "metadata": {},
   "outputs": [],
   "source": [
    "x, y, m = BitVecs('m n r x y', 16)"
   ]
  }
 ],
 "metadata": {
  "kernelspec": {
   "display_name": "Python 3",
   "language": "python",
   "name": "python3"
  },
  "language_info": {
   "codemirror_mode": {
    "name": "ipython",
    "version": 3
   },
   "file_extension": ".py",
   "mimetype": "text/x-python",
   "name": "python",
   "nbconvert_exporter": "python",
   "pygments_lexer": "ipython3",
   "version": "3.8.5"
  }
 },
 "nbformat": 4,
 "nbformat_minor": 4
}
