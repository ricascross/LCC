{
 "cells": [
  {
   "cell_type": "markdown",
   "metadata": {},
   "source": [
    "# *Bounded Model Checking*"
   ]
  },
  {
   "cell_type": "markdown",
   "metadata": {},
   "source": [
    "Nesta aula vamos estudar *model checking*, uma das técnicas mais utilizadas para verificação automática de propriedades de sistemas dinâmicos (sistemas caracterizados por um estado que evolui ao longo do tempo). O *model checking* tem por objectivo verificar automaticamente se uma propriedade (tipicamente especificada numa lógica temporal) é válida num modelo do sistema (tipicamente formalizado como um sistema de transição). Mais concretamente vamos estudar uma técnica de *bounded model checking*, onde o objectivo é verificar se uma propriedade é válida considerando apenas um dado número máximo de estados da execução do sistema."
   ]
  },
  {
   "cell_type": "markdown",
   "metadata": {},
   "source": [
    "## *First-order Transition Systems* (FOTS)\n",
    "\n",
    "FOTS são modelos de sistemas dinâmicos que são determinados por um espaço de estados, uma relação de transição de estados e um conjunto de estados iniciais. Nos FOTS o conjunto de estados iniciais é descrito por um predicado unário (*init*) sobre o vector de variáveis associado ao espaço de estados, e a relação de transição é descrita por um predicado binário (*trans*) sobre dois vectores de variáveis que representam o estado antes e depois da transição."
   ]
  },
  {
   "cell_type": "markdown",
   "metadata": {},
   "source": [
    "### Modelação de programas com FOTS\n",
    "\n",
    "Um programa pode ser modelado por um FOTS da seguinte forma:\n",
    "- O estado é constituído pelas variáveis do programa mais uma variável para o respectivo *program counter*\n",
    "- Os estados iniciais são caracterizados implicitamente por um predicado sobre as variáveis de estado\n",
    "- As transições são caracterizadas implicitamente por um predicado sobre pares de estados\n",
    "\n",
    "Considere, por exemplo o programa seguinte, anotado com uma pré-condição que restringe o valor inicial de $x$:\n",
    "\n",
    "```Python\n",
    "{ x >= 3 }\n",
    "0: while (x>0):\n",
    "1:    x = x-1\n",
    "2: stop\n",
    "```\n",
    "\n",
    "Neste caso o estado do FOTS respectivo será um par de inteiros, o primeiro contendo o valor do $\\mathit{pc}$ (o *program counter* que neste caso pode ser 0, 1 ou 2) e o segundo o valor da variável $x$. O estado inicial é caracterizado pelo seguinte predicado:\n",
    "\n",
    "$$\n",
    "\\mathit{pc} = 0 \\wedge x \\ge 3\n",
    "$$\n",
    "\n",
    "As transições possíveis no FOTS são caracterizadas pelo seguinte predicado:\n",
    "\n",
    "$$\n",
    "\\begin{array}{c}\n",
    "(\\mathit{pc} = 0 \\wedge x > 0 \\wedge \\mathit{pc}' = 1 \\wedge x' = x)\\\\\n",
    "\\vee\\\\\n",
    "(\\mathit{pc} = 0 \\wedge x \\le 0 \\wedge \\mathit{pc}' = 2 \\wedge x' = x) \\\\\n",
    "\\vee\\\\\n",
    "(\\mathit{pc} = 1 \\wedge \\mathit{pc}' = 0 \\wedge x' = x - 1) \\\\\n",
    "\\vee\\\\\n",
    "(\\mathit{pc} = 2 \\wedge \\mathit{pc}' = 2 \\wedge x' = x)\n",
    "\\end{array}\n",
    "$$\n",
    "\n",
    "Note que este predicado é uma disjunção de todas as possíveis transições que podem ocorrer no programa. Cada transição é caracterizada por um predicado onde uma variável do programa denota o seu valor no pré-estado e a mesma variável com apóstrofe denota o seu valor no pós-estado. É usual exigir que cada estado do FOTS tenha pelo menos um sucessor, pelo que o estado final do programa é caracterizado por uma transição para ele próprio (um lacete).\n",
    "\n",
    "Usando estes predicados podemos usar um SMT solver (nomeadamente o Z3) para, por exemplo, gerar uma possível execução de $k\\!-\\!1$ passos do programa (em que $k>0$). Para tal precisamos de criar $k$ cópias das variáveis que caracterizam o estado do FOTS e depois impor que a primeira cópia satisfaz o predicado inicial e que cada par de cópias consecutivas satisfazem o predicado de transição.\n",
    "\n",
    "A seguinte função cria a $i$-ésima cópia das variáveis de estado, agrupadas num dicionário que nos permite aceder às mesmas pelo nome."
   ]
  },
  {
   "cell_type": "code",
   "execution_count": 1,
   "metadata": {},
   "outputs": [],
   "source": [
    "from z3 import *\n",
    "\n",
    "def declare(i):\n",
    "    state = {}\n",
    "    state['pc'] = Int('pc'+str(i))\n",
    "    state['x'] = Int('x'+str(i))\n",
    "    print(state)\n",
    "    return state"
   ]
  },
  {
   "cell_type": "markdown",
   "metadata": {},
   "source": [
    "### Exercício 1\n",
    "\n",
    "Defina a função `init` que, dado um possível estado do programa (um dicionário de variáveis), devolva um predicado Z3 que testa se esse estado é um possível estado inicial do programa."
   ]
  },
  {
   "cell_type": "code",
   "execution_count": 2,
   "metadata": {},
   "outputs": [],
   "source": [
    "def init(state):\n",
    "    # pc=0∧𝑥≥3\n",
    "    return And(state['pc'] == 0, state['x'] >= 3)"
   ]
  },
  {
   "cell_type": "markdown",
   "metadata": {},
   "source": [
    "### Exercício 2\n",
    "\n",
    "Defina a função `trans` que, dados dois possíveis estados do programa, devolva um predicado Z3 que testa se é possível transitar do primeiro para o segundo."
   ]
  },
  {
   "cell_type": "code",
   "execution_count": 3,
   "metadata": {},
   "outputs": [],
   "source": [
    "def trans(curr,prox):\n",
    "    # (pc=0∧𝑥>0∧pc′=1∧𝑥′=𝑥)\n",
    "    transita01 = And(curr['pc'] == 0, curr['x'] > 0, prox['pc'] == 1, prox['x'] == curr['x'])\n",
    "    \n",
    "    # (pc=0∧𝑥≤0∧pc′=2∧𝑥′=𝑥)\n",
    "    transita02 = And(curr['pc'] == 0, curr['x'] <= 0, prox['pc'] == 2, prox['x'] == curr['x'])\n",
    "    \n",
    "    # (pc=1∧pc′=0∧𝑥′=𝑥−1)\n",
    "    transita03 = And(curr['pc'] == 1, prox['pc'] == 0, prox['x'] == curr['x']-1)\n",
    "    \n",
    "    # (pc=2∧pc′=2∧𝑥′=𝑥)\n",
    "    transita04 = And(curr['pc'] == 2, prox['pc'] == 2, prox['x'] == curr['x'])\n",
    "    return Or(transita01, transita02, transita03, transita04)"
   ]
  },
  {
   "cell_type": "markdown",
   "metadata": {},
   "source": [
    "### Exercício 3\n",
    "\n",
    "Complete a função de ordem superior `gera_traco` que, dada uma função que gera uma cópia das variáveis do estado, um predicado que testa se um estado é inicial, um predicado que testa se um par de estados é uma transição válida, e um número positivo `k`, use o Z3 para gerar um possível traço de execução do programa de tamanho `k`. Para cada estado do traço deverá imprimir o respectivo valor das variáveis."
   ]
  },
  {
   "cell_type": "code",
   "execution_count": 8,
   "metadata": {},
   "outputs": [
    {
     "name": "stdout",
     "output_type": "stream",
     "text": [
      "{'pc': pc0, 'x': x0}\n",
      "{'pc': pc1, 'x': x1}\n",
      "{'pc': pc2, 'x': x2}\n",
      "{'pc': pc3, 'x': x3}\n",
      "{'pc': pc4, 'x': x4}\n",
      "{'pc': pc5, 'x': x5}\n",
      "{'pc': pc6, 'x': x6}\n",
      "{'pc': pc7, 'x': x7}\n",
      "{'pc': pc8, 'x': x8}\n",
      "{'pc': pc9, 'x': x9}\n",
      "[And(pc0 == 0, x0 >= 3)]\n",
      "0\n",
      "pc = 0\n",
      "x = 5\n",
      "1\n",
      "pc = 1\n",
      "x = 5\n",
      "2\n",
      "pc = 0\n",
      "x = 4\n",
      "3\n",
      "pc = 1\n",
      "x = 4\n",
      "4\n",
      "pc = 0\n",
      "x = 3\n",
      "5\n",
      "pc = 1\n",
      "x = 3\n",
      "6\n",
      "pc = 0\n",
      "x = 2\n",
      "7\n",
      "pc = 1\n",
      "x = 2\n",
      "8\n",
      "pc = 0\n",
      "x = 1\n",
      "9\n",
      "pc = 1\n",
      "x = 1\n"
     ]
    }
   ],
   "source": [
    "def gera_traco(declare,init,trans,k):\n",
    "    s = Solver()\n",
    "    \n",
    "    # it's like an authomata\n",
    "    # declare all k to states\n",
    "    trace = [declare(i) for i in range(k)]\n",
    "    \n",
    "    # initializate state 0\n",
    "    s.add(init(trace[0]))\n",
    "    \n",
    "    # create a link between two spaces\n",
    "    for i in range(k-1):\n",
    "        s.add(trans(trace[i], trace[i+1]))\n",
    "        \n",
    "    \n",
    "    if s.check() == sat:\n",
    "        m = s.model()\n",
    "        for i in range(k):\n",
    "            print(i)\n",
    "            for v in trace[i]:\n",
    "                print(v,'=', m[trace[i][v]])\n",
    "        \n",
    "gera_traco(declare,init,trans,10)"
   ]
  },
  {
   "cell_type": "markdown",
   "metadata": {},
   "source": [
    "## Lógica temporal linear (LTL)\n",
    "\n",
    "Sobre este FOTS podemos querer verificar várias propriedades temporais, como por exemplo:\n",
    "1. $x$ é sempre positivo\n",
    "2. $x$ é sempre diferente de 1\n",
    "3. $x$ chega inevitavelmente a 0\n",
    "4. $x$ chega inevitavelmente a um valor negativo\n",
    "5. o programa termina\n",
    "\n",
    "Estas propriedades são de natureza muito diferente. As duas primeiras são *propriedades de segurança* (*safety*) que, em geral, garantem que \"nada de mau irá acontecer\". Neste caso em particular são invariantes, ou seja, propriedades que devem ser verdade em todos os estados da execução do programa. As três últimas são *propriedades de animação* (*liveness*) que, em geral, garantem que \"algo de bom irá acontecer\".\n",
    "\n",
    "A lógica LTL introduz *operadores temporais* que nos permitem escrever estas propriedades formalmente. Os operadores mais conhecidos são o $G$, que informalmente significa \"*é sempre verdade que*\", e o $F$, que informalmente significa \"*é inevitável que*\". Com estes operadores, as propriedades acima podem ser especificadas formalmente do seguinte modo\n",
    "1. $G\\ (x \\ge 0)$\n",
    "2. $G\\ (x \\neq 1)$\n",
    "3. $F\\ (x = 0)$\n",
    "4. $F\\ (x < 0)$\n",
    "5. $F\\ (pc = 2)$\n",
    "\n",
    "## *Bounded Model Checking* (BMC) para LTL\n",
    "\n",
    "Como é óbvio, nem todas estas propriedades são válidas. Em particular a 2ª e a 4ª não o são. O objectivo da verificação é precisamente determinar se uma propriedade temporal é válida num FOTS ou não. Este procedimento designa-se *model checking* e, quando uma propriedade não é válida, produz um contra-exemplo (um traço do FOTS correspondente a uma execução do programa onde a propriedade falha). Nesta aula vamos estudar uma técnica particular de *model checking* designada *bounded model checking*, onde o objectivo é determinar se uma propriedade temporal é válida nos primeiros $K$ estados da execução do FOTS.\n",
    "\n",
    "A ideia passa por usar um SMT solver (neste caso o Z3) para tentar descobrir um contra-exemplo para uma dada propriedade. Para simplificar vamos abordar apenas dois casos: verificação de invariantes da forma $G\\ \\phi$ e propriedades de animação simples da forma $F\\ \\phi$, em que $\\phi$ é uma fórmula sem operadores temporais.\n",
    "\n",
    "### BMC de invariantes\n",
    "\n",
    "Para fazer BMC de um invariante, por exemplo $G\\ (x \\ge 0)$ basta-nos usar o Z3 para encontrar um contra-exemplo com no máximo $K$ estados onde a propriedade $(x \\ge 0)$ seja inválida nalgum estado. Para tal podemos implementar um procedimento iterativo que tenta encontrar esse contra-exemplo com tamanhos crescentes, começando com tamanho 1 até ao tamanho máximo $K$. Para cada tamanho $0 < k \\le K$ basta tentar encontrar um possível traço onde o invariante a verificar seja inválido no último estado. Para tal podemos usar um código muito semelhante ao da função `gera_traco`. O procedimento é interrompido mal um contra-exemplo seja encontrado, sendo garantido que esse é um contra-exemplo mínimo para essa propriedade."
   ]
  },
  {
   "cell_type": "markdown",
   "metadata": {},
   "source": [
    "### Exercício 4\n",
    "\n",
    "Complete a definição da função de ordem superior `bmc_always` que, dada uma função que gera uma cópia das variáveis do estado, um predicado que testa se um estado é inicial, um predicado que testa se um par de estados é uma transição válida, um invariante a verificar, e um número positivo `K`, use o Z3 para verificar se esse invariante é sempre válido nos primeiros `K-1` passos de execução do programa, ou devolva um contra-exemplo mínimo caso não seja."
   ]
  },
  {
   "cell_type": "code",
   "execution_count": 13,
   "metadata": {},
   "outputs": [
    {
     "name": "stdout",
     "output_type": "stream",
     "text": [
      "Property is valid up to traces of length 20\n"
     ]
    }
   ],
   "source": [
    "def bmc_always(declare,init,trans,inv,K):\n",
    "    for k in range(1,K+1):\n",
    "        s = Solver()\n",
    "        # it's like an authomata\n",
    "        # declare all k to states\n",
    "        trace = [declare(i) for i in range(k)]\n",
    "\n",
    "        # initializate state 0\n",
    "        s.add(init(trace[0]))\n",
    "\n",
    "        # create a link between two spaces\n",
    "        for i in range(k-1):\n",
    "            s.add(trans(trace[i], trace[i+1]))\n",
    "            \n",
    "        s.add(Not(inv(trace[k-1])))\n",
    "        \n",
    "        if s.check() == sat:\n",
    "            m = s.model()\n",
    "            for i in range(k):\n",
    "                print(i)\n",
    "                for v in trace[i]:\n",
    "                    print(v,'=', m[trace[i][v]])\n",
    "            return\n",
    "        \n",
    "    print (\"Property is valid up to traces of length \"+str(K))\n",
    "        \n",
    "# 1.\n",
    "def positive(state):\n",
    "    return (state['x'] >= 0)\n",
    "\n",
    "bmc_always(declare,init,trans,positive,20)"
   ]
  },
  {
   "cell_type": "markdown",
   "metadata": {},
   "source": [
    "### Exercício 5\n",
    "\n",
    "Use o procedimento `bmc_always` para encontrar um contra-exemplo para a segunda propriedade especificada acima."
   ]
  },
  {
   "cell_type": "code",
   "execution_count": 14,
   "metadata": {},
   "outputs": [
    {
     "name": "stdout",
     "output_type": "stream",
     "text": [
      "0\n",
      "pc = 0\n",
      "x = 3\n",
      "1\n",
      "pc = 1\n",
      "x = 3\n",
      "2\n",
      "pc = 0\n",
      "x = 2\n",
      "3\n",
      "pc = 1\n",
      "x = 2\n",
      "4\n",
      "pc = 0\n",
      "x = 1\n"
     ]
    }
   ],
   "source": [
    "\n",
    "#contra exemplo 2.\n",
    "def notOne(state):\n",
    "    return (state['x'] != 1)\n",
    "\n",
    "bmc_always(declare,init,trans,notOne,20)"
   ]
  },
  {
   "cell_type": "markdown",
   "metadata": {},
   "source": [
    "### BMC de propriedades de animação\n",
    "\n",
    "Para fazer BMC de propriedades de animação da forma $F\\ \\phi$ o prodimento é ligeiramente mais complicado. Neste caso não basta encontrar um traço aberto com no máximo $K$ estados onde $\\phi$ nunca seja válida, pois tal contra-exemplo não seria convincente: nada garante que $\\phi$ não pudesse ser válida num ponto mais tarde da execução. Neste caso, o contra-exemplo teria que ser uma execução completa do programa que demonstre inequivocamente que a propriedade não é válida. É possível encontrar uma execução completa do programa com no máximo $K$ estados se a mesma tiver um *loop* no último estado, mais concretamente, uma transição para um dos estados precedentes. "
   ]
  },
  {
   "cell_type": "markdown",
   "metadata": {},
   "source": [
    "### Exercício 6\n",
    "\n",
    "Complete a definição da função de ordem superior `bmc_eventually` que, dada uma função que gera uma cópia das variáveis do estado, um predicado que testa se um estado é inicial, um predicado que testa se um par de estados é uma transição válida, uma propriedade cuja inevitabilidade se pretende verificar, e um número positivo `K`, use o Z3 para encontrar um contra-exemplo para essa propriedade considerando apenas os primeiros `K` estados de execução do programa. Note que neste caso um contra-exemplo tem que ser necessariamente um *loop* (no sentido acima referido) onde a propriedade desejada nunca seja válida."
   ]
  },
  {
   "cell_type": "code",
   "execution_count": 21,
   "metadata": {},
   "outputs": [
    {
     "name": "stdout",
     "output_type": "stream",
     "text": [
      "Property is valid up to traces of length 20\n",
      "Property is valid up to traces of length 20\n"
     ]
    }
   ],
   "source": [
    "def bmc_eventually(declare,init,trans,prop,k):\n",
    "    for k in range(1,k+1):\n",
    "        s = Solver()\n",
    "        trace = [declare(i) for i in range(k)]\n",
    "\n",
    "        # initializate state 0\n",
    "        s.add(init(trace[0]))\n",
    "\n",
    "        # create a link between two spaces\n",
    "        for i in range(k-1):\n",
    "            s.add(trans(trace[i], trace[i+1]))\n",
    " \n",
    "        s.add(Not(prop(trace[k-1])))\n",
    "    \n",
    "        # force a loop existence\n",
    "        s.add(Or([trans(trace[k-1], trace[i]) for i in range(k)]))\n",
    "        \n",
    "        \n",
    "        if s.check() == sat:\n",
    "            m = s.model()\n",
    "            for i in range(k):\n",
    "                print(i)\n",
    "                for v in trace[i]:\n",
    "                    print(v,'=', m[trace[i][v]])\n",
    "            return\n",
    "        \n",
    "            \n",
    "        \n",
    "    print (\"Property is valid up to traces of length \"+str(k))\n",
    "\n",
    "    \n",
    "\n",
    "def zero(state):\n",
    "    return (state['x'] == 0)\n",
    "\n",
    "bmc_eventually(declare,init,trans,zero,20)\n",
    "\n",
    "def terminates(state):\n",
    "    return (state['pc'] == 2)\n",
    "\n",
    "bmc_eventually(declare,init,trans,terminates,20)"
   ]
  },
  {
   "cell_type": "markdown",
   "metadata": {},
   "source": [
    "### Exercício 7\n",
    "\n",
    "Modifique a função `bmc_eventually` para não só imprimir os estados do contra-exemplo, mas também o estado onde começa o *loop*. Sugere-se a utilização da função `eval` do Z3 para detectar esse estado. Utilize esta função modificada para encontrar um contra exemplo para a quarta propriedade acima referida."
   ]
  },
  {
   "cell_type": "code",
   "execution_count": 26,
   "metadata": {},
   "outputs": [
    {
     "name": "stdout",
     "output_type": "stream",
     "text": [
      "0\n"
     ]
    },
    {
     "ename": "KeyError",
     "evalue": "0",
     "output_type": "error",
     "traceback": [
      "\u001b[0;31m---------------------------------------------------------------------------\u001b[0m",
      "\u001b[0;31mKeyError\u001b[0m                                  Traceback (most recent call last)",
      "\u001b[0;32m<ipython-input-26-d4fe3cc5f0ba>\u001b[0m in \u001b[0;36m<module>\u001b[0;34m\u001b[0m\n\u001b[1;32m     36\u001b[0m     \u001b[0;32mreturn\u001b[0m \u001b[0;34m(\u001b[0m\u001b[0mstate\u001b[0m\u001b[0;34m[\u001b[0m\u001b[0;34m'x'\u001b[0m\u001b[0;34m]\u001b[0m \u001b[0;34m<\u001b[0m \u001b[0;36m0\u001b[0m\u001b[0;34m)\u001b[0m\u001b[0;34m\u001b[0m\u001b[0;34m\u001b[0m\u001b[0m\n\u001b[1;32m     37\u001b[0m \u001b[0;34m\u001b[0m\u001b[0m\n\u001b[0;32m---> 38\u001b[0;31m \u001b[0mbmc_eventually\u001b[0m\u001b[0;34m(\u001b[0m\u001b[0mdeclare\u001b[0m\u001b[0;34m,\u001b[0m\u001b[0minit\u001b[0m\u001b[0;34m,\u001b[0m\u001b[0mtrans\u001b[0m\u001b[0;34m,\u001b[0m\u001b[0mnegative\u001b[0m\u001b[0;34m,\u001b[0m\u001b[0;36m20\u001b[0m\u001b[0;34m)\u001b[0m\u001b[0;34m\u001b[0m\u001b[0;34m\u001b[0m\u001b[0m\n\u001b[0m",
      "\u001b[0;32m<ipython-input-26-d4fe3cc5f0ba>\u001b[0m in \u001b[0;36mbmc_eventually\u001b[0;34m(declare, init, trans, prop, k)\u001b[0m\n\u001b[1;32m     21\u001b[0m             \u001b[0;32mfor\u001b[0m \u001b[0mi\u001b[0m \u001b[0;32min\u001b[0m \u001b[0mrange\u001b[0m\u001b[0;34m(\u001b[0m\u001b[0mk\u001b[0m\u001b[0;34m)\u001b[0m\u001b[0;34m:\u001b[0m\u001b[0;34m\u001b[0m\u001b[0;34m\u001b[0m\u001b[0m\n\u001b[1;32m     22\u001b[0m                 \u001b[0mprint\u001b[0m\u001b[0;34m(\u001b[0m\u001b[0mi\u001b[0m\u001b[0;34m)\u001b[0m\u001b[0;34m\u001b[0m\u001b[0;34m\u001b[0m\u001b[0m\n\u001b[0;32m---> 23\u001b[0;31m                 \u001b[0;32mif\u001b[0m \u001b[0mm\u001b[0m\u001b[0;34m.\u001b[0m\u001b[0meval\u001b[0m\u001b[0;34m(\u001b[0m\u001b[0mtrans\u001b[0m\u001b[0;34m(\u001b[0m\u001b[0mtrace\u001b[0m\u001b[0;34m[\u001b[0m\u001b[0mk\u001b[0m\u001b[0;34m-\u001b[0m\u001b[0;36m1\u001b[0m\u001b[0;34m]\u001b[0m\u001b[0;34m[\u001b[0m\u001b[0mi\u001b[0m\u001b[0;34m]\u001b[0m\u001b[0;34m)\u001b[0m\u001b[0;34m)\u001b[0m\u001b[0;34m:\u001b[0m\u001b[0;34m\u001b[0m\u001b[0;34m\u001b[0m\u001b[0m\n\u001b[0m\u001b[1;32m     24\u001b[0m                     \u001b[0mptint\u001b[0m\u001b[0;34m(\u001b[0m\u001b[0;34m\"Loop Starts here\"\u001b[0m\u001b[0;34m)\u001b[0m\u001b[0;34m\u001b[0m\u001b[0;34m\u001b[0m\u001b[0m\n\u001b[1;32m     25\u001b[0m                 \u001b[0;32mfor\u001b[0m \u001b[0mv\u001b[0m \u001b[0;32min\u001b[0m \u001b[0mtrace\u001b[0m\u001b[0;34m[\u001b[0m\u001b[0mi\u001b[0m\u001b[0;34m]\u001b[0m\u001b[0;34m:\u001b[0m\u001b[0;34m\u001b[0m\u001b[0;34m\u001b[0m\u001b[0m\n",
      "\u001b[0;31mKeyError\u001b[0m: 0"
     ]
    }
   ],
   "source": [
    "def bmc_eventually(declare,init,trans,prop,k):\n",
    "    for k in range(1,k+1):\n",
    "        s = Solver()\n",
    "        trace = [declare(i) for i in range(k)]\n",
    "\n",
    "        # initializate state 0\n",
    "        s.add(init(trace[0]))\n",
    "\n",
    "        # create a link between two spaces\n",
    "        for i in range(k-1):\n",
    "            s.add(trans(trace[i], trace[i+1]))\n",
    " \n",
    "        s.add(Not(prop(trace[k-1])))\n",
    "    \n",
    "        # force a loop existence\n",
    "        s.add(Or([trans(trace[k-1], trace[i]) for i in range(k)]))\n",
    "        \n",
    "        \n",
    "        if s.check() == sat:\n",
    "            m = s.model()\n",
    "            for i in range(k):\n",
    "                print(i)\n",
    "                if m.eval(trans(trace[k-1][i])):\n",
    "                    ptint(\"Loop Starts here\")\n",
    "                for v in trace[i]:\n",
    "                    print(v,'=', m[trace[i][v]])\n",
    "            return\n",
    "        \n",
    "            \n",
    "        \n",
    "    print (\"Property is valid up to traces of length \"+str(k))\n",
    "\n",
    "    \n",
    "\n",
    "def negative(state):\n",
    "    return (state['x'] < 0)\n",
    "\n",
    "bmc_eventually(declare,init,trans,negative,20)"
   ]
  },
  {
   "cell_type": "code",
   "execution_count": null,
   "metadata": {},
   "outputs": [],
   "source": []
  }
 ],
 "metadata": {
  "kernelspec": {
   "display_name": "Python 3",
   "language": "python",
   "name": "python3"
  },
  "language_info": {
   "codemirror_mode": {
    "name": "ipython",
    "version": 3
   },
   "file_extension": ".py",
   "mimetype": "text/x-python",
   "name": "python",
   "nbconvert_exporter": "python",
   "pygments_lexer": "ipython3",
   "version": "3.8.5"
  }
 },
 "nbformat": 4,
 "nbformat_minor": 2
}
