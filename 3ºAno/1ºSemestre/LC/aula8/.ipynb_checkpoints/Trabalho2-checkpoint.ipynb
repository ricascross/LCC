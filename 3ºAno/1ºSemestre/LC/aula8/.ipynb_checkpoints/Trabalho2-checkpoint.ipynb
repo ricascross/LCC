{
 "cells": [
  {
   "cell_type": "code",
   "execution_count": 10,
   "metadata": {},
   "outputs": [],
   "source": [
    "from z3 import *\n",
    "\n",
    "def declare(i):\n",
    "    state = {}\n",
    "    state['pc'] = Int('pc'+str(i))\n",
    "    state['s'] = Int('s'+str(i))\n",
    "    return state"
   ]
  },
  {
   "cell_type": "code",
   "execution_count": 20,
   "metadata": {},
   "outputs": [],
   "source": [
    "def init(state):\n",
    "    # state = 0 or state = 1\n",
    "    return And(state['pc'] == 0, Or(state['s'] == 0, state['s'] == 1))"
   ]
  },
  {
   "cell_type": "code",
   "execution_count": null,
   "metadata": {},
   "outputs": [],
   "source": [
    "def trans(curr, prox):\n",
    "    trans01 = And(curr['pc'] == 0, Or(curr['s']==0, curr['s']==1), prox['pc'] == 1, Or(prox['s'] == Not(curr['s']), prox['s'] == curr['s']))\n",
    "    trans02 = And(curr['pc'] == 1, Or(curr['s']==0, curr['s']==1), prox['pc'] == 2, Or(prox['s'] == Not(curr['s']), prox['s'] == curr['s']))\n",
    "    trans03 = And(curr['pc'] == 2, Or(curr['s']==0, curr['s']==1), prox['pc'] == 3, Or(prox['s'] == Not(curr['s']), prox['s'] == curr['s']))\n",
    "    trans04 = And(curr['pc'] == 3, Or(curr['s']==0, curr['s']==1), prox['pc'] == 0, Or(prox['s'] == Not(curr['s']), prox['s'] == curr['s']))\n",
    "    "
   ]
  },
  {
   "cell_type": "code",
   "execution_count": 21,
   "metadata": {},
   "outputs": [
    {
     "name": "stdout",
     "output_type": "stream",
     "text": [
      "[And(pc0 == 0, Or(s0 == 0, s0 == 1)),\n",
      " And(pc1 == 0, Or(s1 == 0, s1 == 1)),\n",
      " And(pc2 == 0, Or(s2 == 0, s2 == 1)),\n",
      " And(pc3 == 0, Or(s3 == 0, s3 == 1))]\n"
     ]
    }
   ],
   "source": [
    "def generate_link(declare, init, k):\n",
    "    s = Solver()\n",
    "    trace = [declare(i) for i in range(k)]\n",
    "    for i in range(k):\n",
    "        s.add(init(trace[i])\n",
    "        \n",
    "    print(s)\n",
    "    \n",
    "generate_link(declare,init,4)"
   ]
  },
  {
   "cell_type": "code",
   "execution_count": null,
   "metadata": {},
   "outputs": [],
   "source": [
    "{x >= 0 && x <=1}\n",
    "0: while x > 0:\n",
    "1:     x = x-1\n",
    "2: stop"
   ]
  }
 ],
 "metadata": {
  "kernelspec": {
   "display_name": "Python 3",
   "language": "python",
   "name": "python3"
  },
  "language_info": {
   "codemirror_mode": {
    "name": "ipython",
    "version": 3
   },
   "file_extension": ".py",
   "mimetype": "text/x-python",
   "name": "python",
   "nbconvert_exporter": "python",
   "pygments_lexer": "ipython3",
   "version": "3.8.5"
  }
 },
 "nbformat": 4,
 "nbformat_minor": 4
}
