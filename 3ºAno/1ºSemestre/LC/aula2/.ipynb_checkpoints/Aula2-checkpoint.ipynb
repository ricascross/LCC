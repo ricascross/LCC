{
 "cells": [
  {
   "cell_type": "markdown",
   "metadata": {},
   "source": [
    "# Breve introdução à utilização do Z3 em Python"
   ]
  },
  {
   "cell_type": "markdown",
   "metadata": {},
   "source": [
    "Um tutorial do Z3Py, a biblioteca Python de interface para o popular solver Z3 da Microsoft, pode ser encontrado em https://ericpony.github.io/z3py-tutorial/guide-examples.htm\n",
    "\n",
    "Começamos por importar o módulo do Z3."
   ]
  },
  {
   "cell_type": "code",
   "execution_count": 2,
   "metadata": {},
   "outputs": [],
   "source": [
    "from z3 import *"
   ]
  },
  {
   "cell_type": "markdown",
   "metadata": {},
   "source": [
    "As funções `Int(), Real(), Bool()` criam uma variável no Z3 do tipo correspondente. A função `solve` resolve um sistema de restrições. Por exemplo, para encontrar uma solução para o sistema equações $x > 2$, $y < 10$ e $x + 2 \\times y = 7$ podemos utilizar o seguinte programa. "
   ]
  },
  {
   "cell_type": "code",
   "execution_count": 3,
   "metadata": {},
   "outputs": [
    {
     "name": "stdout",
     "output_type": "stream",
     "text": [
      "[y = 0, x = 7]\n"
     ]
    }
   ],
   "source": [
    "x = Int('x') # identificador do z3\n",
    "y = Int('y') # identificador do z3\n",
    "solve(x > 2, y < 10, x + 2*y == 7)"
   ]
  },
  {
   "cell_type": "markdown",
   "metadata": {},
   "source": [
    "Mais um exemplo, agora com a teoria de reais, para encontrar a solução para o sistema de equações $x^2 + y^2 > 3$ e $x^3 + y < 5$."
   ]
  },
  {
   "cell_type": "code",
   "execution_count": 4,
   "metadata": {},
   "outputs": [
    {
     "name": "stdout",
     "output_type": "stream",
     "text": [
      "[y = 2, x = 1/8]\n"
     ]
    }
   ],
   "source": [
    "x = Real('x')\n",
    "y = Real('y')\n",
    "solve(x**2 + y**2 > 3, x**3 + y < 5)"
   ]
  },
  {
   "cell_type": "markdown",
   "metadata": {},
   "source": [
    "O Z3 também pode ser usado como SAT solver. Para tal basta usar variáveis do tipo Bool e fórmulas proposicionais. Por exemplo, o programa seguinte verifica se a conjunção das fórmulas $p \\rightarrow q$, $r \\leftrightarrow \\neg q$, e $\\neg p \\vee r$ é satisfazível. "
   ]
  },
  {
   "cell_type": "code",
   "execution_count": 5,
   "metadata": {},
   "outputs": [
    {
     "name": "stdout",
     "output_type": "stream",
     "text": [
      "[q = True, p = False, r = False]\n"
     ]
    }
   ],
   "source": [
    "p = Bool('p')\n",
    "q = Bool('q')\n",
    "r = Bool('r')\n",
    "solve(Implies(p, q), r == Not(q), Or(Not(p), r))"
   ]
  },
  {
   "cell_type": "markdown",
   "metadata": {},
   "source": [
    "Também podemos usar o Z3 para simplificar expressões."
   ]
  },
  {
   "cell_type": "code",
   "execution_count": 6,
   "metadata": {},
   "outputs": [
    {
     "name": "stdout",
     "output_type": "stream",
     "text": [
      "And(p, q, True)\n",
      "And(p, q)\n",
      "False\n"
     ]
    }
   ],
   "source": [
    "p = Bool('p')\n",
    "q = Bool('q')\n",
    "print (And(p, q, True))\n",
    "print (simplify(And(p, q, True)))\n",
    "print (simplify(And(p, False)))"
   ]
  },
  {
   "cell_type": "markdown",
   "metadata": {},
   "source": [
    "O Z3 também permite resolver conjuntos de restrições envolvendo variáveis de vários tipos."
   ]
  },
  {
   "cell_type": "code",
   "execution_count": 7,
   "metadata": {},
   "outputs": [
    {
     "name": "stdout",
     "output_type": "stream",
     "text": [
      "[x = -1.4142135623?, p = False]\n"
     ]
    }
   ],
   "source": [
    "p = Bool('p')\n",
    "x = Real('x')\n",
    "solve(Or(x < 5, x > 10), Or(p, x**2 == 2), Not(p))"
   ]
  },
  {
   "cell_type": "markdown",
   "metadata": {},
   "source": [
    "É possível controlar a precisão com que são apresentados os números reais alterando a opção `precision`. "
   ]
  },
  {
   "cell_type": "code",
   "execution_count": 8,
   "metadata": {},
   "outputs": [
    {
     "name": "stdout",
     "output_type": "stream",
     "text": [
      "[x = -1.414213562373095048801688724209?, p = False]\n"
     ]
    }
   ],
   "source": [
    "set_option(precision=30)\n",
    "solve(Or(x < 5, x > 10), Or(p, x**2 == 2), Not(p))"
   ]
  },
  {
   "cell_type": "markdown",
   "metadata": {},
   "source": [
    "O comando `Solver()` cria um solucionador de propósito geral. Inicialmente não tem restrições. Está vazio."
   ]
  },
  {
   "cell_type": "code",
   "execution_count": 9,
   "metadata": {},
   "outputs": [
    {
     "name": "stdout",
     "output_type": "stream",
     "text": [
      "[]\n"
     ]
    }
   ],
   "source": [
    "x = Int('x')\n",
    "y = Int('y')\n",
    "\n",
    "s = Solver()\n",
    "print(s)"
   ]
  },
  {
   "cell_type": "markdown",
   "metadata": {},
   "source": [
    "As restrições podem ser adicionadas usando o método `add`. O método `check` resolve as restrições declaradas. O resultado é `sat` se uma solução for encontrada. "
   ]
  },
  {
   "cell_type": "code",
   "execution_count": 10,
   "metadata": {},
   "outputs": [
    {
     "name": "stdout",
     "output_type": "stream",
     "text": [
      "[x > 10, y == x + 2]\n",
      "Solving constraints in the solver s ...\n",
      "sat\n"
     ]
    }
   ],
   "source": [
    "s.add(x > 10, y == x + 2)\n",
    "print(s)\n",
    "print(\"Solving constraints in the solver s ...\")\n",
    "print(s.check())"
   ]
  },
  {
   "cell_type": "markdown",
   "metadata": {},
   "source": [
    "O resultado é `unsat` se não houver solução. Se o resultado for `sat` podemos extrair o modelo gerado usando o método `model`. Um modelo é um dicionário que indica qual a valoração das variáveis."
   ]
  },
  {
   "cell_type": "code",
   "execution_count": 11,
   "metadata": {},
   "outputs": [
    {
     "name": "stdout",
     "output_type": "stream",
     "text": [
      "x = 11\n",
      "y = 13\n"
     ]
    }
   ],
   "source": [
    "if s.check() == sat:\n",
    "    m = s.model()\n",
    "    print(x,'=',m[x])\n",
    "    print(y,'=',m[y])"
   ]
  },
  {
   "cell_type": "code",
   "execution_count": null,
   "metadata": {},
   "outputs": [],
   "source": []
  },
  {
   "cell_type": "markdown",
   "metadata": {},
   "source": [
    "Em algumas aplicações, queremos explorar vários problemas semelhantes que compartilham várias restrições. Podemos usar os métodos `push` e `pop` para fazer isso. Cada *solver* mantém uma pilha de asserções (restrições). O método `push` cria um novo escopo, salvando o tamanho atual da pilha. O método  `pop` remove qualquer asserção acrescentada entre ele e o `push` correspondente. O método `check` opera sobre o conjunto de asserções que está no topo da pilha."
   ]
  },
  {
   "cell_type": "code",
   "execution_count": 12,
   "metadata": {},
   "outputs": [
    {
     "name": "stdout",
     "output_type": "stream",
     "text": [
      "Create a new scope...\n",
      "[x > 10, y == x + 2, y < 11]\n",
      "Solving updated set of constraints...\n",
      "unsat\n"
     ]
    }
   ],
   "source": [
    "print(\"Create a new scope...\")\n",
    "s.push()\n",
    "s.add(y < 11)\n",
    "print(s)\n",
    "print(\"Solving updated set of constraints...\")\n",
    "print(s.check())\n"
   ]
  },
  {
   "cell_type": "code",
   "execution_count": 13,
   "metadata": {},
   "outputs": [
    {
     "name": "stdout",
     "output_type": "stream",
     "text": [
      "Restoring state...\n",
      "[x > 10, y == x + 2]\n",
      "Solving restored set of constraints...\n",
      "sat\n"
     ]
    }
   ],
   "source": [
    "print(\"Restoring state...\")\n",
    "s.pop()\n",
    "print(s)\n",
    "print(\"Solving restored set of constraints...\")\n",
    "print(s.check())"
   ]
  },
  {
   "cell_type": "markdown",
   "metadata": {},
   "source": [
    "Finalmente, um *solver* pode não ser capaz de se pronunciar quanto à satisfazibilidade de um conjunto de restrições.\n",
    "Nesse caso devolve `unknown`."
   ]
  },
  {
   "cell_type": "code",
   "execution_count": 14,
   "metadata": {},
   "outputs": [
    {
     "name": "stdout",
     "output_type": "stream",
     "text": [
      "unknown\n"
     ]
    }
   ],
   "source": [
    "x = Real('x')\n",
    "s = Solver()\n",
    "s.add(2**x == 3)\n",
    "print(s.check())"
   ]
  },
  {
   "cell_type": "markdown",
   "metadata": {},
   "source": [
    "### Exemplo"
   ]
  },
  {
   "cell_type": "markdown",
   "metadata": {},
   "source": [
    "O Cryptarithms é um jogo que consiste numa equação matemática entre números desconhecidos, cujos dígitos são representados por letras. Cada letra deve representar um dígito diferente e o dígito inicial de um número com vários dígitos não deve ser zero.\n",
    "\n",
    "Queremos saber os dígitos a que correspondem as letras envolvidas na seguinte equação:\n",
    "```\n",
    "TWO + TWO = FOUR\n",
    "```\n",
    "Podemos modelar o problema da seguinte forma. Cada letra dá origem a uma variável inteira ($T$,$W$,$O$,$F$,$U$ e $R$) e para representar a equação acima representamos cada parcela por uma expressão aritmética onde cada letra é multiplicada pelo seu “peso específico” (em base 10).\n",
    "\n",
    "Resolver este problema equivale a resolver o seguinte sistema de equações:\n",
    "$$\n",
    "\\left\\{\n",
    "\\begin{array}{l}\n",
    "0 \\le T \\le 9\\\\\n",
    "\\cdots\\\\\n",
    "0 \\le R \\le 9\\\\\n",
    "T \\neq W \\neq O \\neq F \\neq U \\neq R \\\\\n",
    "T \\neq 0\\\\\n",
    "F \\neq 0\\\\\n",
    "(100 \\times T + 10 \\times W + O) + (100 \\times T + 10 \\times W + O) = 1000 \\times F + 100 \\times O + 10 \\times U + R\n",
    "\\end{array}\n",
    "\\right.\n",
    "$$\n",
    "\n",
    "Em Z3 este sistema pode ser resolvido da seguinte forma."
   ]
  },
  {
   "cell_type": "code",
   "execution_count": 15,
   "metadata": {},
   "outputs": [
    {
     "name": "stdout",
     "output_type": "stream",
     "text": [
      "[O = 4, W = 3, T = 7, F = 1, U = 6, R = 8]\n"
     ]
    }
   ],
   "source": [
    "T, W, O, F, U, R = Ints('T W O F U R')\n",
    "s = Solver()\n",
    "\n",
    "s.add(And(0<=T,T<=9))\n",
    "s.add(And(0<=W,W<=9))\n",
    "s.add(And(0<=O,O<=9))\n",
    "s.add(And(0<=F,F<=9))\n",
    "s.add(And(0<=U,U<=9))\n",
    "s.add(And(0<=R,R<=9))\n",
    "\n",
    "s.add(Distinct(T, W, O, F, U, R))\n",
    "\n",
    "s.add(Not(T==0)) # é igual ao de baixo\n",
    "s.add(F!=0)\n",
    "\n",
    "s.add((T*100+W*10+O)+(T*100+W*10+O)==F*1000+O*100+U*10+R)\n",
    "\n",
    "r = s.check()\n",
    "if r==sat :\n",
    "    m = s.model()\n",
    "    print(m)\n",
    "else: \n",
    "    print(\"Não tem solução.\")"
   ]
  },
  {
   "cell_type": "markdown",
   "metadata": {},
   "source": [
    "Podemos consultar o conjunto de restrições que temos no solver s, usando o método `assertions`."
   ]
  },
  {
   "cell_type": "code",
   "execution_count": 16,
   "metadata": {},
   "outputs": [
    {
     "name": "stdout",
     "output_type": "stream",
     "text": [
      "And(T >= 0, T <= 9)\n",
      "And(W >= 0, W <= 9)\n",
      "And(O >= 0, O <= 9)\n",
      "And(F >= 0, F <= 9)\n",
      "And(U >= 0, U <= 9)\n",
      "And(R >= 0, R <= 9)\n",
      "Distinct(T, W, O, F, U, R)\n",
      "Not(T == 0)\n",
      "F != 0\n",
      "T*100 + W*10 + O + T*100 + W*10 + O ==\n",
      "F*1000 + O*100 + U*10 + R\n"
     ]
    }
   ],
   "source": [
    "for c in s.assertions():\n",
    "    print(c)"
   ]
  },
  {
   "cell_type": "markdown",
   "metadata": {},
   "source": [
    "Podemos agora consultar o modelo `m` gerado. No programa seguinte, `name` devolve o nome de uma variável atribuída no modelo, e `m[d]` o valor atribuído a `d` no modelo `m`. Atenção que este valor não é um tipo primitivo do Python. Por exemplo, para o converter para um inteiro do Python é necessário usar o método `as_long`. Para mais informações sobre estes métodos de conversão ver o seguinte post no Stack Overflow: https://stackoverflow.com/questions/12598408/z3-python-getting-python-values-from-model/12600208 "
   ]
  },
  {
   "cell_type": "code",
   "execution_count": 17,
   "metadata": {
    "scrolled": false
   },
   "outputs": [
    {
     "name": "stdout",
     "output_type": "stream",
     "text": [
      "O = 4\n",
      "W = 3\n",
      "T = 7\n",
      "F = 1\n",
      "U = 6\n",
      "R = 8\n"
     ]
    }
   ],
   "source": [
    "for d in m:\n",
    "    print(\"%s = %d\" % (d.name(), m[d].as_long()))"
   ]
  },
  {
   "cell_type": "markdown",
   "metadata": {},
   "source": [
    "Como podemos saber se existem outras soluções para este quebra-cabeças?\n",
    "Podemos acrescentar restrições de forma a excluir a solução apresentada pelo *solver*, e testar novamente."
   ]
  },
  {
   "cell_type": "code",
   "execution_count": 18,
   "metadata": {},
   "outputs": [
    {
     "name": "stdout",
     "output_type": "stream",
     "text": [
      "[O = 8, W = 2, T = 9, F = 1, U = 5, R = 6]\n",
      "[R = 2, O = 6, W = 3, T = 8, F = 1, U = 7]\n",
      "[R = 0, O = 5, W = 6, T = 7, F = 1, U = 3]\n",
      "[R = 4, O = 7, W = 6, T = 8, F = 1, U = 3]\n",
      "[R = 2, O = 6, W = 4, T = 8, F = 1, U = 9]\n",
      "[R = 8, O = 4, W = 3, T = 7, F = 1, U = 6]\n",
      "[R = 6, O = 8, W = 3, T = 9, F = 1, U = 7]\n"
     ]
    }
   ],
   "source": [
    "vs = [T, W, O, F, U, R]\n",
    "while s.check() == sat:\n",
    "    m = s.model()\n",
    "    print(m)\n",
    "    s.add(Or([x != m[x] for x in vs]))  # para excluir as mesmas atribuições usadas no modelo anterior"
   ]
  },
  {
   "cell_type": "markdown",
   "metadata": {},
   "source": [
    "### Exercício 1\n",
    "\n",
    "Relembre que uma fórmula é válida se e só se a negação for insatisfazível. Defina uma função `prove` que verifique se uma fórmula proposicional é válida e use essa função para provar a lei de Morgan $A \\wedge B = \\neg (\\neg A \\vee \\neg B)$."
   ]
  },
  {
   "cell_type": "code",
   "execution_count": 19,
   "metadata": {},
   "outputs": [
    {
     "data": {
      "text/plain": [
       "True"
      ]
     },
     "execution_count": 19,
     "metadata": {},
     "output_type": "execute_result"
    }
   ],
   "source": [
    "def prove(f):\n",
    "    # completar\n",
    "    s = Solver()\n",
    "    s.add(Not(f))\n",
    "    return s.check()==unsat\n",
    "\n",
    "a,b = Bools(\"A B\")\n",
    "demorgan = (And(a,b) == Not(Or(Not(a),Not(b))))\n",
    "prove(demorgan)"
   ]
  },
  {
   "cell_type": "markdown",
   "metadata": {},
   "source": [
    "## Modelação em Lógica Proposicional"
   ]
  },
  {
   "cell_type": "markdown",
   "metadata": {},
   "source": [
    "Considere o seguinte problema:\n",
    "```\n",
    "- Maria cannot meet on Wednesday.\n",
    "- Peter can only meet either on Monday, Wednesday or Thursday. \n",
    "- Anne cannot meet on Friday.\n",
    "- Mike cannot meet neither on Tuesday nor on Thursday\n",
    " \n",
    "When can the meeting take place?\n",
    "```\n",
    "Vamos usar o Z3 para encontrar a solução. \n",
    "\n",
    "1. Vamos modelar o problema em Lógica Proposicional, criando uma variável proposicional para cada dia da semana ($\\mathit{Mon}$,$\\mathit{Tue}$,$\\mathit{Wed}$,$\\mathit{Thu}$, e $\\mathit{Fri}$), com a seguinte semântica: se a variável for `True` é porque a reunião se pode fazer nesse dia, caso contrário será `False`.\n",
    "\n",
    "2. De seguida, teremos que modelar cada uma das restrições, acrescentando as fórmulas lógicas correspondentes.\n",
    "\n",
    "$$\n",
    "\\begin{array}{c}\n",
    "\\neg \\mathit{Wed}\\\\\n",
    "\\mathit{Mon} \\vee \\mathit{Wed} \\vee \\mathit{Thu}\\\\\n",
    "\\neg \\mathit{Fri}\\\\\n",
    "\\neg \\mathit{Tue} \\wedge \\neg \\mathit{Thu}\\\\\n",
    "\\end{array}\n",
    "$$\n",
    "\n",
    "3. Finalmente testamos se o conjunto de restrições é satisfazível e extraimos a solução calculada.\n"
   ]
  },
  {
   "cell_type": "code",
   "execution_count": 20,
   "metadata": {},
   "outputs": [
    {
     "name": "stdout",
     "output_type": "stream",
     "text": [
      "[Tuesday = False,\n",
      " Thursday = False,\n",
      " Monday = True,\n",
      " Wednesday = False,\n",
      " Friday = False]\n"
     ]
    }
   ],
   "source": [
    "Mon, Tue, Wed, Thu, Fri = Bools('Monday Tuesday Wednesday Thursday Friday')\n",
    "s = Solver()\n",
    "s.add(Not(Wed))\n",
    "s.add(Or(Mon,Wed,Thu))\n",
    "s.add(Not(Fri),And(Not(Tue),Not(Thu))) # Também é possível passar várias restrições ao solver de uma vez só\n",
    "\n",
    "if s.check() == sat:\n",
    "    m = s.model()\n",
    "    print(m)\n",
    "else:\n",
    "    print(\"The meeting cannot take place!\")"
   ]
  },
  {
   "cell_type": "markdown",
   "metadata": {},
   "source": [
    "### Exercício 2\n",
    "\n",
    "Altere o código acima por forma a imprimir apenas o dia em que deverá ocorrer a reunião (em vez de imprimir todo o modelo)."
   ]
  },
  {
   "cell_type": "code",
   "execution_count": 21,
   "metadata": {},
   "outputs": [
    {
     "name": "stdout",
     "output_type": "stream",
     "text": [
      "Monday\n"
     ]
    }
   ],
   "source": [
    "# completar\n",
    "if s.check() == sat:\n",
    "    for day in m:\n",
    "        if m[day]:\n",
    "            print(day)\n",
    "else:\n",
    "    print(\"The meeting cannot take place!\")"
   ]
  },
  {
   "cell_type": "markdown",
   "metadata": {},
   "source": [
    "### Exercício 3\n",
    "\n",
    "Considere o seguinte enigma:\n",
    "```\n",
    "- If the unicorn is mythical, then it is immortal.\n",
    "- If the unicorn is not mythical, then it is a mortal mammal.\n",
    "- If the unicorn is either immortal or a mammal, then it is horned. \n",
    "- The unicorn is magical if it is horned.\n",
    "\n",
    "Given these constraints:\n",
    "- Is the unicorn magical? \n",
    "- Is it horned? \n",
    "- Is it mythical?\n",
    "```\n",
    "Modele o problema em Lógica Proposicional e use o Z3 para o resolver.\n",
    "\n",
    "**Sugestão:** Resolva o problema com o auxílio de 5 variáveis proposicionais, correspondentes às 5 propriedades dos unicórnios. Relembre que a afirmação $A_1, \\ldots, A_n \\models B$ é válida se e só se o conjunto de restrições $\\{A_1, \\ldots, A_n, \\neg B\\}$ é inconsistente. Tire proveito dos métodos `push()` e `pop()` para responder às várias questões usando de forma incremental o mesmo solver."
   ]
  },
  {
   "cell_type": "code",
   "execution_count": 23,
   "metadata": {},
   "outputs": [
    {
     "name": "stdout",
     "output_type": "stream",
     "text": [
      "Is the unicorn magical? \n",
      "yes\n",
      "Is it horned?  \n",
      "yes\n",
      "Is it mythical?  \n",
      "Not necessarily..\n"
     ]
    }
   ],
   "source": [
    "# completar\n",
    "mythical, immortal, mammal, horned, magical = Bools(\"mythical immortal mammal horned magical\")\n",
    "\n",
    "s = Solver() # initializate solver\n",
    "\n",
    "# it's magical and horned\n",
    "\n",
    "# restrictions\n",
    "# If the unicorn is mythical, then it is immortal.\n",
    "s.add(Implies(mythical, immortal))\n",
    "# If the unicorn is not mythical, then it is a mortal mammal.\n",
    "s.add(Implies(Not(mythical), And(Not(immortal), mammal)))\n",
    "# If the unicorn is either immortal or a mammal, then it is horned. \n",
    "s.add(Implies(Or(immortal, mammal), horned))\n",
    "# The unicorn is magical if it is horned.\n",
    "s.add(Implies(horned, magical))\n",
    "\n",
    "\n",
    "\n",
    "s.push()\n",
    "print(\"Is the unicorn magical? \")\n",
    "s.add(Not(magical)) # A1,...,AN |= B sse {A1,..An, not(B) is unsat} testar se é verdadeiro\n",
    "\n",
    "if s.check() == unsat:\n",
    "    print(\"yes\")\n",
    "else:\n",
    "    print(\"Not necessarily..\")\n",
    "    \n",
    "s.pop()\n",
    "s.push()\n",
    "print(\"Is it horned?  \")\n",
    "s.add(Not(horned)) # A1,...,AN |= B sse {A1,..An, not(B) is unsat} testar se é verdadeiro\n",
    "if s.check() == unsat:\n",
    "    print(\"yes\")\n",
    "else:\n",
    "    print(\"Not necessarily..\")\n",
    "\n",
    "s.pop()\n",
    "s.push()\n",
    "print(\"Is it mythical?  \")\n",
    "s.add(Not(mythical)) # A1,...,AN |= B sse {A1,..An, not(B) is unsat} testar se é verdadeiro\n",
    "if s.check() == unsat:\n",
    "    print(\"yes\")\n",
    "else:\n",
    "    print(\"Not necessarily..\")"
   ]
  },
  {
   "cell_type": "markdown",
   "metadata": {},
   "source": [
    "### Exercício 4\n",
    "\n",
    "Considere o seguinte problema.\n",
    "```\n",
    "Temos 3 cadeiras em linha (esquerda, meio, e direita) e precisamos de sentar 3 convidados: a Ana, a Susana e o Pedro. No entanto:\n",
    "\n",
    "- A Ana não quer ficar sentada à beira do Pedro.\n",
    "- A Ana não quer ficar na cadeira da esquerda.\n",
    "- A Susana não se quer sentar à esquerda do Pedro.\n",
    "\n",
    "Será possível sentar os convidados? Como?\n",
    "```\n",
    "Modele o problema em Lógica Proposicional e use o Z3 para o resolver. Não se esqueça que todas as pessoas devem ficar sentadas e que só é possível sentar uma pessoa por cadeira.\n",
    "\n",
    "**Sugestão:** Crie uma variável proposicional (com nome sugestivo) para cada par $(p,c)$, onde $p$ é uma pessoa e $c$ uma cadeira. Se a pessoa $p$ ficar sentada na cadeira $c$ o valor da variável respectiva será `True`, caso contrário será `False`. Em alternativa, pode também criar um dicionário `v` de variáveis proposicionais de tal forma que `v[p][c]` corresponde à variável do par $(p,c)$."
   ]
  },
  {
   "cell_type": "code",
   "execution_count": 3,
   "metadata": {},
   "outputs": [
    {
     "name": "stdout",
     "output_type": "stream",
     "text": [
      "{'Ana': {'esquerda': Ana, esquerda, 'meio': Ana, meio, 'direita': Ana, direita}, 'Susana': {'esquerda': Susana, esquerda, 'meio': Susana, meio, 'direita': Susana, direita}, 'Pedro': {'esquerda': Pedro, esquerda, 'meio': Pedro, meio, 'direita': Pedro, direita}}\n",
      "Ana está à esquerda?\n",
      "no\n",
      "Ana está no meio?\n",
      "no\n",
      "Ana está no direita?\n",
      "yes\n",
      "Susana à esquerda?\n",
      "no\n",
      "Susana no meio?\n",
      "yes\n",
      "Susana na direita?\n",
      "no\n",
      "pedro na esquerda?\n",
      "yes\n",
      "pedro no meio?\n",
      "no\n",
      "pedro na direita?\n",
      "no\n"
     ]
    }
   ],
   "source": [
    "# completar \n",
    "\n",
    "ps = [\"Ana\",\"Susana\",\"Pedro\"]\n",
    "cs = [\"esquerda\",\"meio\",\"direita\"]\n",
    "v = {}\n",
    "for p in ps:\n",
    "    v[p] = {}\n",
    "    for c in cs:\n",
    "        v[p][c] = Bool(\"%s, %s\" % (p,c))\n",
    "print(v)\n",
    "# initializate solver\n",
    "s = Solver()\n",
    "\n",
    "# A Ana não quer ficar sentada à beira do Pedro.\n",
    "s.add(Implies(Or(v[\"Ana\"][\"esquerda\"],v[\"Ana\"][\"direita\"]),Not(v[\"Pedro\"][\"meio\"])))\n",
    "s.add(Implies(v[\"Ana\"][\"meio\"],And(Not(v[\"Pedro\"][\"esquerda\"]),Not(v[\"Pedro\"][\"direita\"]))))\n",
    "# A Ana não quer ficar na cadeira da esquerda.\n",
    "s.add(Not(v[\"Ana\"][\"esquerda\"]))\n",
    "# A Susana não se quer sentar à esquerda do Pedro.\n",
    "s.add(Implies(v[\"Pedro\"][\"direita\"],Not(v[\"Susana\"][\"meio\"])))\n",
    "s.add(Implies(v[\"Pedro\"][\"meio\"],Not(v[\"Susana\"][\"esquerda\"])))\n",
    "\n",
    "# cada pessoa está sentada\n",
    "for p in ps:\n",
    "    s.add(Or(list(v[p].values())))\n",
    "\n",
    "\n",
    "# Apenas uma pessoa por cadeira.\n",
    "for c in cs:\n",
    "    for i in range(len(ps)-1):\n",
    "        for j in range(i+1,len(ps)):\n",
    "            s.add(Implies(v[ps[i]][c],Not(v[ps[j]][c])))\n",
    "\n",
    "\n",
    "s.push()\n",
    "print(\"Ana está à esquerda?\")\n",
    "s.add(Not(v[\"Ana\"][\"esquerda\"]))\n",
    "if s.check() == unsat:\n",
    "    print(\"yes\")\n",
    "else:\n",
    "    print(\"no\")\n",
    "\n",
    "s.pop()\n",
    "s.push()\n",
    "print(\"Ana está no meio?\")\n",
    "s.add(Not(v[\"Ana\"][\"meio\"]))\n",
    "if s.check() == unsat:\n",
    "    print(\"yes\")\n",
    "else:\n",
    "    print(\"no\")\n",
    "\n",
    "s.pop()\n",
    "s.push()\n",
    "print(\"Ana está no direita?\")\n",
    "s.add(Not(v[\"Ana\"][\"direita\"]))\n",
    "if s.check() == unsat:\n",
    "    print(\"yes\")\n",
    "else:\n",
    "    print(\"no\")\n",
    "    \n",
    "s.pop()\n",
    "s.push()\n",
    "print(\"Susana à esquerda?\")\n",
    "s.add(Not(v[\"Susana\"][\"esquerda\"]))\n",
    "if s.check() == unsat:\n",
    "    print(\"yes\")\n",
    "else:\n",
    "    print(\"no\")\n",
    "\n",
    "s.pop()\n",
    "s.push()\n",
    "print(\"Susana no meio?\")\n",
    "s.add(Not(v[\"Susana\"][\"meio\"]))\n",
    "if s.check() == unsat:\n",
    "    print(\"yes\")\n",
    "else:\n",
    "    print(\"no\")\n",
    "    \n",
    "s.pop()\n",
    "s.push()\n",
    "print(\"Susana na direita?\")\n",
    "s.add(Not(v[\"Susana\"][\"direita\"]))\n",
    "if s.check() == unsat:\n",
    "    print(\"yes\")\n",
    "else:\n",
    "    print(\"no\")\n",
    "    \n",
    "s.pop()\n",
    "s.push()\n",
    "print(\"pedro na esquerda?\")\n",
    "s.add(Not(v[\"Pedro\"][\"esquerda\"]))\n",
    "if s.check() == unsat:\n",
    "    print(\"yes\")\n",
    "else:\n",
    "    print(\"no\")\n",
    "\n",
    "s.pop()\n",
    "s.push()\n",
    "print(\"pedro no meio?\")\n",
    "s.add(Not(v[\"Pedro\"][\"meio\"]))\n",
    "if s.check() == unsat:\n",
    "    print(\"yes\")\n",
    "else:\n",
    "    print(\"no\")\n",
    "\n",
    "s.pop()\n",
    "s.push()\n",
    "print(\"pedro na direita?\")\n",
    "s.add(Not(v[\"Pedro\"][\"direita\"]))\n",
    "if s.check() == unsat:\n",
    "    print(\"yes\")\n",
    "else:\n",
    "    print(\"no\")"
   ]
  },
  {
   "cell_type": "code",
   "execution_count": null,
   "metadata": {},
   "outputs": [],
   "source": []
  },
  {
   "cell_type": "code",
   "execution_count": null,
   "metadata": {},
   "outputs": [],
   "source": []
  }
 ],
 "metadata": {
  "kernelspec": {
   "display_name": "Python 3",
   "language": "python",
   "name": "python3"
  },
  "language_info": {
   "codemirror_mode": {
    "name": "ipython",
    "version": 3
   },
   "file_extension": ".py",
   "mimetype": "text/x-python",
   "name": "python",
   "nbconvert_exporter": "python",
   "pygments_lexer": "ipython3",
   "version": "3.8.3"
  }
 },
 "nbformat": 4,
 "nbformat_minor": 2
}
